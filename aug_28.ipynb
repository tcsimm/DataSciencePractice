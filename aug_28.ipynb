{
 "cells": [
  {
   "cell_type": "code",
   "execution_count": 16,
   "id": "8308942c",
   "metadata": {},
   "outputs": [],
   "source": [
    "import sqlite3\n",
    "from datetime import datetime"
   ]
  },
  {
   "cell_type": "code",
   "execution_count": 18,
   "id": "488914c5",
   "metadata": {},
   "outputs": [],
   "source": [
    "conn = sqlite3.connect(\"practice.db\")\n",
    "cursor = conn.cursor()"
   ]
  },
  {
   "cell_type": "code",
   "execution_count": 20,
   "id": "bed23ef3",
   "metadata": {},
   "outputs": [
    {
     "data": {
      "text/plain": [
       "<sqlite3.Cursor at 0x105144b40>"
      ]
     },
     "execution_count": 20,
     "metadata": {},
     "output_type": "execute_result"
    }
   ],
   "source": [
    "cursor.execute(\"DROP TABLE IF EXISTS Orders;\")"
   ]
  },
  {
   "cell_type": "code",
   "execution_count": 12,
   "id": "9d8c926e",
   "metadata": {},
   "outputs": [
    {
     "data": {
      "text/plain": [
       "<sqlite3.Cursor at 0x105145f40>"
      ]
     },
     "execution_count": 12,
     "metadata": {},
     "output_type": "execute_result"
    }
   ],
   "source": [
    "# Create Orders table\n",
    "cursor.execute(\"\"\"\n",
    "CREATE TABLE Orders (\n",
    "    OrderID INTEGER PRIMARY KEY AUTOINCREMENT,\n",
    "    CustomerID INTEGER,\n",
    "    OrderDate TEXT,\n",
    "    TotalAmount REAL\n",
    ")\n",
    "\"\"\")"
   ]
  },
  {
   "cell_type": "code",
   "execution_count": 13,
   "id": "0ef64fc1",
   "metadata": {},
   "outputs": [
    {
     "data": {
      "text/plain": [
       "<sqlite3.Cursor at 0x105145f40>"
      ]
     },
     "execution_count": 13,
     "metadata": {},
     "output_type": "execute_result"
    }
   ],
   "source": [
    "orders = [\n",
    "    (1, \"2023-01-15\", 250.00),\n",
    "    (2, \"2023-03-22\", 180.50),\n",
    "    (1, \"2023-07-09\", 99.99),\n",
    "    (3, \"2023-07-20\", 300.00),\n",
    "    (2, \"2024-01-11\", 450.75),\n",
    "    (3, \"2024-01-25\", 125.00),\n",
    "    (1, \"2024-04-05\", 220.40),\n",
    "    (2, \"2024-07-18\", 310.25),\n",
    "    (3, \"2024-07-30\", 150.00),\n",
    "    (1, \"2024-12-10\", 500.00),\n",
    "    (2, \"2025-01-01\", 275.50),\n",
    "]\n",
    "\n",
    "cursor.executemany(\"\"\"\n",
    "INSERT INTO Orders (CustomerID, OrderDate, TotalAmount)\n",
    "VALUES (?, ?, ?)\n",
    "\"\"\", orders)\n"
   ]
  },
  {
   "cell_type": "code",
   "execution_count": 14,
   "id": "9d20f624",
   "metadata": {},
   "outputs": [
    {
     "name": "stdout",
     "output_type": "stream",
     "text": [
      "(1, 1, '2023-01-15', 250.0)\n",
      "(2, 2, '2023-03-22', 180.5)\n",
      "(3, 1, '2023-07-09', 99.99)\n",
      "(4, 3, '2023-07-20', 300.0)\n",
      "(5, 2, '2024-01-11', 450.75)\n",
      "(6, 3, '2024-01-25', 125.0)\n",
      "(7, 1, '2024-04-05', 220.4)\n",
      "(8, 2, '2024-07-18', 310.25)\n",
      "(9, 3, '2024-07-30', 150.0)\n",
      "(10, 1, '2024-12-10', 500.0)\n",
      "(11, 2, '2025-01-01', 275.5)\n"
     ]
    }
   ],
   "source": [
    "conn.commit()\n",
    "\n",
    "for row in cursor.execute(\"SELECT * FROM Orders\"):\n",
    "    print(row)\n"
   ]
  },
  {
   "cell_type": "code",
   "execution_count": 15,
   "id": "5afd90ad",
   "metadata": {},
   "outputs": [],
   "source": [
    "query1 = \"\"\"\n",
    "SELECT *\n",
    "FROM Orders\n",
    "WHERE YEAR(OrderDate) = 2024;\"\"\""
   ]
  }
 ],
 "metadata": {
  "kernelspec": {
   "display_name": "base",
   "language": "python",
   "name": "python3"
  },
  "language_info": {
   "codemirror_mode": {
    "name": "ipython",
    "version": 3
   },
   "file_extension": ".py",
   "mimetype": "text/x-python",
   "name": "python",
   "nbconvert_exporter": "python",
   "pygments_lexer": "ipython3",
   "version": "3.12.4"
  }
 },
 "nbformat": 4,
 "nbformat_minor": 5
}

{
 "cells": [
  {
   "cell_type": "code",
   "execution_count": 1,
   "id": "050931ab",
   "metadata": {},
   "outputs": [],
   "source": [
    "import pandas as pd\n",
    "import numpy as np\n",
    "from scipy import stats"
   ]
  },
  {
   "cell_type": "code",
   "execution_count": 2,
   "id": "8a81939a",
   "metadata": {},
   "outputs": [],
   "source": [
    "# Simulate data\n",
    "np.random.seed(42)"
   ]
  },
  {
   "cell_type": "code",
   "execution_count": 4,
   "id": "abec5fbe",
   "metadata": {},
   "outputs": [],
   "source": [
    "# Group a - control\n",
    "group_a = np.random.binomial(n=1, p=0.10, size=1000)"
   ]
  },
  {
   "cell_type": "code",
   "execution_count": 6,
   "id": "2441a5b3",
   "metadata": {},
   "outputs": [],
   "source": [
    "# Group b - treatment\n",
    "group_b = np.random.binomial(n=1, p=0.12, size=1000)"
   ]
  },
  {
   "cell_type": "code",
   "execution_count": 7,
   "id": "c0c4072b",
   "metadata": {},
   "outputs": [],
   "source": [
    "df = pd.DataFrame({\n",
    "    'group': ['A']*len(group_a) +['B']*len(group_b),\n",
    "    'converted': np.concatenate([group_a, group_b])\n",
    "})"
   ]
  }
 ],
 "metadata": {
  "kernelspec": {
   "display_name": "base",
   "language": "python",
   "name": "python3"
  },
  "language_info": {
   "codemirror_mode": {
    "name": "ipython",
    "version": 3
   },
   "file_extension": ".py",
   "mimetype": "text/x-python",
   "name": "python",
   "nbconvert_exporter": "python",
   "pygments_lexer": "ipython3",
   "version": "3.12.4"
  }
 },
 "nbformat": 4,
 "nbformat_minor": 5
}

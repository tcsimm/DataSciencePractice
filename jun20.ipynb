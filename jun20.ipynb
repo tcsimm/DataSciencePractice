{
 "cells": [
  {
   "cell_type": "code",
   "execution_count": 1,
   "id": "050931ab",
   "metadata": {},
   "outputs": [],
   "source": [
    "import pandas as pd\n",
    "import numpy as np\n",
    "from scipy import stats"
   ]
  },
  {
   "cell_type": "code",
   "execution_count": 2,
   "id": "8a81939a",
   "metadata": {},
   "outputs": [],
   "source": [
    "# Simulate data\n",
    "np.random.seed(42)"
   ]
  },
  {
   "cell_type": "code",
   "execution_count": 4,
   "id": "abec5fbe",
   "metadata": {},
   "outputs": [],
   "source": [
    "# Group a - control\n",
    "group_a = np.random.binomial(n=1, p=0.10, size=1000)"
   ]
  },
  {
   "cell_type": "code",
   "execution_count": 6,
   "id": "2441a5b3",
   "metadata": {},
   "outputs": [],
   "source": [
    "# Group b - treatment\n",
    "group_b = np.random.binomial(n=1, p=0.12, size=1000)"
   ]
  },
  {
   "cell_type": "code",
   "execution_count": 7,
   "id": "c0c4072b",
   "metadata": {},
   "outputs": [],
   "source": [
    "df = pd.DataFrame({\n",
    "    'group': ['A']*len(group_a) +['B']*len(group_b),\n",
    "    'converted': np.concatenate([group_a, group_b])\n",
    "})"
   ]
  },
  {
   "cell_type": "code",
   "execution_count": 8,
   "id": "11340faa",
   "metadata": {},
   "outputs": [
    {
     "name": "stdout",
     "output_type": "stream",
     "text": [
      "group\n",
      "A    0.100\n",
      "B    0.121\n",
      "Name: converted, dtype: float64\n"
     ]
    }
   ],
   "source": [
    "# View conversion rates\n",
    "conversion_rates = df.groupby('group')['converted'].mean()\n",
    "print(conversion_rates)"
   ]
  },
  {
   "cell_type": "code",
   "execution_count": 10,
   "id": "f7a78963",
   "metadata": {},
   "outputs": [],
   "source": [
    "# Counts\n",
    "success_a = group_a.sum()\n",
    "success_b = group_b.sum()\n",
    "\n",
    "n_a = len(group_a)\n",
    "n_b = len(group_b)\n",
    "\n",
    "# Conversion rate differences\n",
    "p1 = success_a / n_a\n",
    "p2 = success_b / n_b"
   ]
  },
  {
   "cell_type": "code",
   "execution_count": 12,
   "id": "00a17ba5",
   "metadata": {},
   "outputs": [
    {
     "name": "stdout",
     "output_type": "stream",
     "text": [
      "Z-score: -1.4978\n",
      "P-value: 0.1342\n"
     ]
    }
   ],
   "source": [
    "p_pool = (success_a + success_b) / (n_a + n_b)\n",
    "\n",
    "# Z-test\n",
    "z_score = (p1 - p2) / np.sqrt(p_pool * (1 - p_pool) * (1/n_a + 1/n_b))\n",
    "p_value = stats.norm.sf(abs(z_score)) * 2  # two-tailed\n",
    "\n",
    "print(f\"Z-score: {z_score:.4f}\")\n",
    "print(f\"P-value: {p_value:.4f}\")"
   ]
  },
  {
   "cell_type": "code",
   "execution_count": 13,
   "id": "b5fbfc05",
   "metadata": {},
   "outputs": [
    {
     "name": "stdout",
     "output_type": "stream",
     "text": [
      "Fail to reject the null: No significant difference detected.\n"
     ]
    }
   ],
   "source": [
    "alpha = 0.05\n",
    "if p_value < alpha:\n",
    "    print(\"Reject the null hypothesis: A significant difference exists.\")\n",
    "else:\n",
    "    print(\"Fail to reject the null: No significant difference detected.\")\n"
   ]
  }
 ],
 "metadata": {
  "kernelspec": {
   "display_name": "base",
   "language": "python",
   "name": "python3"
  },
  "language_info": {
   "codemirror_mode": {
    "name": "ipython",
    "version": 3
   },
   "file_extension": ".py",
   "mimetype": "text/x-python",
   "name": "python",
   "nbconvert_exporter": "python",
   "pygments_lexer": "ipython3",
   "version": "3.12.4"
  }
 },
 "nbformat": 4,
 "nbformat_minor": 5
}

{
 "cells": [
  {
   "cell_type": "code",
   "execution_count": null,
   "id": "508c0e5e",
   "metadata": {},
   "outputs": [],
   "source": [
    "student_data = [\n",
    "    [1,15],\n",
    "    [2,16],\n",
    "    [3,17],\n",
    "    [4,18]\n",
    "]"
   ]
  },
  {
   "cell_type": "code",
   "execution_count": null,
   "id": "74ac1952",
   "metadata": {},
   "outputs": [],
   "source": []
  }
 ],
 "metadata": {
  "kernelspec": {
   "display_name": "base",
   "language": "python",
   "name": "python3"
  },
  "language_info": {
   "name": "python",
   "version": "3.12.4"
  }
 },
 "nbformat": 4,
 "nbformat_minor": 5
}

{
 "cells": [
  {
   "cell_type": "code",
   "execution_count": 1,
   "id": "aff99125",
   "metadata": {},
   "outputs": [],
   "source": [
    "import pandas as pd\n",
    "\n",
    "def big_countries(countries: pd.DataFrame) -> pd.DataFrame:\n",
    "    return countries.loc[(countries['area'] > 5) | (countries['population'] > 10), ['population']]"
   ]
  },
  {
   "cell_type": "code",
   "execution_count": 3,
   "id": "dbd8fc1e",
   "metadata": {},
   "outputs": [
    {
     "name": "stdout",
     "output_type": "stream",
     "text": [
      "IST grade calculator\n"
     ]
    }
   ],
   "source": [
    "print(\"IST grade calculator\")\n",
    "\n",
    "grade = int(input(\"Enter total points out of 250\"))"
   ]
  }
 ],
 "metadata": {
  "kernelspec": {
   "display_name": "base",
   "language": "python",
   "name": "python3"
  },
  "language_info": {
   "codemirror_mode": {
    "name": "ipython",
    "version": 3
   },
   "file_extension": ".py",
   "mimetype": "text/x-python",
   "name": "python",
   "nbconvert_exporter": "python",
   "pygments_lexer": "ipython3",
   "version": "3.12.4"
  }
 },
 "nbformat": 4,
 "nbformat_minor": 5
}

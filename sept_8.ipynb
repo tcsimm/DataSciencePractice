{
 "cells": [
  {
   "cell_type": "code",
   "execution_count": null,
   "id": "aff99125",
   "metadata": {},
   "outputs": [],
   "source": [
    "import pandas as pd\n",
    "\n",
    "def big_countries(countries: pd.DataFrame) -> pd.DataFrame:\n",
    "    return countries.loc[(countries['area'] > 5) | (countries['population'] > 10), ['population']]"
   ]
  },
  {
   "cell_type": "code",
   "execution_count": null,
   "id": "dbd8fc1e",
   "metadata": {},
   "outputs": [],
   "source": []
  }
 ],
 "metadata": {
  "kernelspec": {
   "display_name": "base",
   "language": "python",
   "name": "python3"
  },
  "language_info": {
   "name": "python",
   "version": "3.12.4"
  }
 },
 "nbformat": 4,
 "nbformat_minor": 5
}

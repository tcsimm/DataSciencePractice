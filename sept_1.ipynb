{
 "cells": [
  {
   "cell_type": "code",
   "execution_count": 58,
   "id": "4ff9bfec",
   "metadata": {},
   "outputs": [],
   "source": [
    "import sqlite3\n",
    "from datetime import datetime "
   ]
  },
  {
   "cell_type": "code",
   "execution_count": 59,
   "id": "bf1a1d0f",
   "metadata": {},
   "outputs": [],
   "source": [
    "conn = sqlite3.connect('newdb.db')\n",
    "cursor = conn.cursor()"
   ]
  },
  {
   "cell_type": "code",
   "execution_count": 60,
   "id": "16d131fa",
   "metadata": {},
   "outputs": [
    {
     "ename": "OperationalError",
     "evalue": "database is locked",
     "output_type": "error",
     "traceback": [
      "\u001b[0;31m---------------------------------------------------------------------------\u001b[0m",
      "\u001b[0;31mOperationalError\u001b[0m                          Traceback (most recent call last)",
      "Cell \u001b[0;32mIn[60], line 1\u001b[0m\n\u001b[0;32m----> 1\u001b[0m cursor\u001b[38;5;241m.\u001b[39mexecute(\u001b[38;5;124m\"\u001b[39m\u001b[38;5;124mDROP TABLE IF EXISTS Orders;\u001b[39m\u001b[38;5;124m\"\u001b[39m)\n",
      "\u001b[0;31mOperationalError\u001b[0m: database is locked"
     ]
    }
   ],
   "source": [
    "cursor.execute(\"DROP TABLE IF EXISTS Orders;\")"
   ]
  },
  {
   "cell_type": "code",
   "execution_count": null,
   "id": "27b7d80f",
   "metadata": {},
   "outputs": [
    {
     "data": {
      "text/plain": [
       "<sqlite3.Cursor at 0x10c7b2d40>"
      ]
     },
     "execution_count": 26,
     "metadata": {},
     "output_type": "execute_result"
    }
   ],
   "source": [
    "# create orders table\n",
    "cursor.execute(\"\"\"\n",
    "CREATE TABLE IF NOT EXISTS Orders (\n",
    "    OrderID INTEGER PRIMARY KEY AUTOINCREMENT,\n",
    "    CustomerID INTEGER,\n",
    "    OrderDate TEXT,\n",
    "    TotalAmount REAL\n",
    "    )\n",
    "    \"\"\")"
   ]
  },
  {
   "cell_type": "code",
   "execution_count": null,
   "id": "b8d9cfed",
   "metadata": {},
   "outputs": [
    {
     "data": {
      "text/plain": [
       "<sqlite3.Cursor at 0x10c7b2d40>"
      ]
     },
     "execution_count": 27,
     "metadata": {},
     "output_type": "execute_result"
    }
   ],
   "source": [
    "orders = [\n",
    "    (1, \"2023-01-15\", 250.00),\n",
    "    (2, \"2023-03-22\", 180.50),\n",
    "    (1, \"2023-07-09\", 99.99),\n",
    "    (3, \"2023-07-20\", 300.00),\n",
    "    (2, \"2024-01-11\", 450.75),\n",
    "    (3, \"2024-01-25\", 125.00),\n",
    "    (1, \"2024-04-05\", 220.40),\n",
    "    (2, \"2024-07-18\", 310.25),\n",
    "    (3, \"2024-07-30\", 150.00),\n",
    "    (1, \"2024-12-10\", 500.00),\n",
    "    (2, \"2025-01-01\", 275.50),\n",
    "]\n",
    "\n",
    "cursor.executemany(\"\"\"\n",
    "INSERT INTO Orders (CustomerID, OrderDate, TotalAmount)\n",
    "VALUES (?, ?, ?)\n",
    "\"\"\", orders)\n"
   ]
  },
  {
   "cell_type": "code",
   "execution_count": null,
   "id": "eb239441",
   "metadata": {},
   "outputs": [
    {
     "name": "stdout",
     "output_type": "stream",
     "text": [
      "(1, 1, '2023-01-15', 250.0)\n",
      "(2, 2, '2023-03-22', 180.5)\n",
      "(3, 1, '2023-07-09', 99.99)\n",
      "(4, 3, '2023-07-20', 300.0)\n",
      "(5, 2, '2024-01-11', 450.75)\n",
      "(6, 3, '2024-01-25', 125.0)\n",
      "(7, 1, '2024-04-05', 220.4)\n",
      "(8, 2, '2024-07-18', 310.25)\n",
      "(9, 3, '2024-07-30', 150.0)\n",
      "(10, 1, '2024-12-10', 500.0)\n",
      "(11, 2, '2025-01-01', 275.5)\n"
     ]
    }
   ],
   "source": [
    "conn.commit()\n",
    "\n",
    "for row in cursor.execute(\"SELECT * FROM Orders\"):\n",
    "    print(row)"
   ]
  },
  {
   "cell_type": "code",
   "execution_count": null,
   "id": "d5a4e604",
   "metadata": {},
   "outputs": [],
   "source": [
    "query = \"\"\"\n",
    "SELECT *\n",
    "FROM Orders\n",
    "WHERE strftime('%Y', OrderDate) = '2024';\n",
    "\"\"\""
   ]
  },
  {
   "cell_type": "code",
   "execution_count": null,
   "id": "b5881ada",
   "metadata": {},
   "outputs": [
    {
     "name": "stdout",
     "output_type": "stream",
     "text": [
      "[(5, 2, '2024-01-11', 450.75), (6, 3, '2024-01-25', 125.0), (7, 1, '2024-04-05', 220.4), (8, 2, '2024-07-18', 310.25), (9, 3, '2024-07-30', 150.0), (10, 1, '2024-12-10', 500.0)]\n"
     ]
    }
   ],
   "source": [
    "a = conn.execute(query)\n",
    "print(a.fetchall())"
   ]
  },
  {
   "cell_type": "code",
   "execution_count": null,
   "id": "63e4d8b3",
   "metadata": {},
   "outputs": [
    {
     "name": "stdout",
     "output_type": "stream",
     "text": [
      "<sqlite3.Cursor object at 0x10c8689c0>\n"
     ]
    }
   ],
   "source": [
    "print(a)"
   ]
  },
  {
   "cell_type": "code",
   "execution_count": 63,
   "id": "b7bcf51a",
   "metadata": {},
   "outputs": [
    {
     "data": {
      "text/plain": [
       "<sqlite3.Cursor at 0x10c7e49c0>"
      ]
     },
     "execution_count": 63,
     "metadata": {},
     "output_type": "execute_result"
    }
   ],
   "source": [
    "conn.execute(\"\"\"\n",
    "CREATE TABLE IF NOT EXISTS employees (\n",
    "    employee_id INTEGER PRIMARY KEY,\n",
    "    employee_name TEXT,\n",
    "    birth_date TEXT,\n",
    "    salary INTEGER,\n",
    "    manager_id INTEGER)\n",
    "    ;\n",
    "\"\"\")"
   ]
  },
  {
   "cell_type": "code",
   "execution_count": 64,
   "id": "9615aac3",
   "metadata": {},
   "outputs": [
    {
     "data": {
      "text/plain": [
       "<sqlite3.Cursor at 0x10c892e40>"
      ]
     },
     "execution_count": 64,
     "metadata": {},
     "output_type": "execute_result"
    }
   ],
   "source": [
    "# insert some sample data\n",
    "data = [\n",
    "    (1, \"Alice\", \"1990-01-01\", 70000, None),\n",
    "    (2, \"Bob\", \"1985-02-02\", 60000, 1),\n",
    "    (3, \"Charlie\", \"1992-03-03\", 50000, 1),\n",
    "    (4, \"David\", \"1988-04-04\", 75000, 2),\n",
    "    (5, \"Eve\", \"1995-05-05\", 55000, 2)\n",
    "]\n",
    "\n",
    "conn.executemany(\"INSERT OR REPLACE INTO employees VALUES (?,?,?,?,?)\", data)"
   ]
  },
  {
   "cell_type": "code",
   "execution_count": 65,
   "id": "1ba37505",
   "metadata": {},
   "outputs": [
    {
     "name": "stdout",
     "output_type": "stream",
     "text": [
      "Query 1 result:\n",
      "  employee_name  birth_date\n",
      "0         Alice  1990-01-01\n",
      "1           Bob  1985-02-02\n",
      "2       Charlie  1992-03-03\n",
      "3         David  1988-04-04\n",
      "4           Eve  1995-05-05\n"
     ]
    }
   ],
   "source": [
    "# query without group by\n",
    "import pandas as pd \n",
    "\n",
    "query1 = \"\"\"\n",
    "SELECT employee_name, birth_date\n",
    "FROM employees\n",
    "\"\"\"\n",
    "print(\"Query 1 result:\")\n",
    "print(pd.read_sql_query(query1, conn))"
   ]
  },
  {
   "cell_type": "code",
   "execution_count": 66,
   "id": "60c60457",
   "metadata": {},
   "outputs": [
    {
     "name": "stdout",
     "output_type": "stream",
     "text": [
      "Query 2 result:\n",
      "\n"
     ]
    },
    {
     "data": {
      "text/html": [
       "<div>\n",
       "<style scoped>\n",
       "    .dataframe tbody tr th:only-of-type {\n",
       "        vertical-align: middle;\n",
       "    }\n",
       "\n",
       "    .dataframe tbody tr th {\n",
       "        vertical-align: top;\n",
       "    }\n",
       "\n",
       "    .dataframe thead th {\n",
       "        text-align: right;\n",
       "    }\n",
       "</style>\n",
       "<table border=\"1\" class=\"dataframe\">\n",
       "  <thead>\n",
       "    <tr style=\"text-align: right;\">\n",
       "      <th></th>\n",
       "      <th>employee_name</th>\n",
       "      <th>birth_date</th>\n",
       "    </tr>\n",
       "  </thead>\n",
       "  <tbody>\n",
       "    <tr>\n",
       "      <th>0</th>\n",
       "      <td>Alice</td>\n",
       "      <td>1990-01-01</td>\n",
       "    </tr>\n",
       "    <tr>\n",
       "      <th>1</th>\n",
       "      <td>Bob</td>\n",
       "      <td>1985-02-02</td>\n",
       "    </tr>\n",
       "    <tr>\n",
       "      <th>2</th>\n",
       "      <td>Charlie</td>\n",
       "      <td>1992-03-03</td>\n",
       "    </tr>\n",
       "    <tr>\n",
       "      <th>3</th>\n",
       "      <td>David</td>\n",
       "      <td>1988-04-04</td>\n",
       "    </tr>\n",
       "    <tr>\n",
       "      <th>4</th>\n",
       "      <td>Eve</td>\n",
       "      <td>1995-05-05</td>\n",
       "    </tr>\n",
       "  </tbody>\n",
       "</table>\n",
       "</div>"
      ],
      "text/plain": [
       "  employee_name  birth_date\n",
       "0         Alice  1990-01-01\n",
       "1           Bob  1985-02-02\n",
       "2       Charlie  1992-03-03\n",
       "3         David  1988-04-04\n",
       "4           Eve  1995-05-05"
      ]
     },
     "execution_count": 66,
     "metadata": {},
     "output_type": "execute_result"
    }
   ],
   "source": [
    "# query with group by\n",
    "\n",
    "query2 = \"\"\"\n",
    "SELECT employee_name, birth_date\n",
    "FROM employees\n",
    "GROUP BY employee_name, birth_date\"\"\"\n",
    "\n",
    "print(\"Query 2 result:\\n\")\n",
    "pd.read_sql_query(query2, conn)"
   ]
  },
  {
   "cell_type": "code",
   "execution_count": 70,
   "id": "d5845fcd",
   "metadata": {},
   "outputs": [
    {
     "name": "stdout",
     "output_type": "stream",
     "text": [
      "Query 3 result:\n",
      "\n",
      "   birth_date  num_employees\n",
      "0  1995-05-05              1\n",
      "1  1992-03-03              1\n",
      "2  1990-01-01              1\n",
      "3  1988-04-04              1\n",
      "4  1985-02-02              1\n"
     ]
    }
   ],
   "source": [
    "query3 = \"\"\"\n",
    "SELECT birth_date, COUNT(*) as num_employees\n",
    "FROM employees\n",
    "GROUP BY birth_date\n",
    "ORDER BY birth_date DESC\n",
    "\"\"\"\n",
    "print(\"Query 3 result:\\n\")\n",
    "print(pd.read_sql_query(query3, conn))"
   ]
  },
  {
   "cell_type": "code",
   "execution_count": 75,
   "id": "0285cf59",
   "metadata": {},
   "outputs": [
    {
     "name": "stdout",
     "output_type": "stream",
     "text": [
      "Query 3 result (should fail):\n",
      "\n",
      "  employee_name  birth_date\n",
      "0         Alice  1990-01-01\n",
      "1           Bob  1985-02-02\n",
      "2       Charlie  1992-03-03\n",
      "3         David  1988-04-04\n",
      "4           Eve  1995-05-05\n"
     ]
    }
   ],
   "source": [
    "# Try leaving one column out of GROUP BY (will error in SQLite)\n",
    "try:\n",
    "    query3 = \"\"\"\n",
    "    SELECT employee_name, birth_date\n",
    "    FROM employees\n",
    "    GROUP BY employee_name\n",
    "    \"\"\"\n",
    "    print(\"Query 3 result (should fail):\\n\")\n",
    "    print(pd.read_sql_query(query3, conn))\n",
    "except Exception as e:\n",
    "    print(\"Query 3 failed with error:\", e)"
   ]
  },
  {
   "cell_type": "code",
   "execution_count": 78,
   "id": "8125ed75",
   "metadata": {},
   "outputs": [
    {
     "name": "stdout",
     "output_type": "stream",
     "text": [
      "You can't divide by zero silly\n"
     ]
    }
   ],
   "source": [
    "try:\n",
    "    result = 5/0\n",
    "except ZeroDivisionError:\n",
    "    print(\"You can't divide by zero silly\")"
   ]
  },
  {
   "cell_type": "code",
   "execution_count": 81,
   "id": "6c0d14c5",
   "metadata": {},
   "outputs": [
    {
     "name": "stdout",
     "output_type": "stream",
     "text": [
      "Something went wrong: invalid literal for int() with base 10: 'hello'\n"
     ]
    }
   ],
   "source": [
    "try:\n",
    "    x = int(\"hello\")\n",
    "except Exception as e:\n",
    "    print(\"Something went wrong:\",e)"
   ]
  },
  {
   "cell_type": "code",
   "execution_count": 87,
   "id": "93ebfb17",
   "metadata": {},
   "outputs": [
    {
     "name": "stdout",
     "output_type": "stream",
     "text": [
      "That is not a float/decimal\n",
      "Done trying\n"
     ]
    }
   ],
   "source": [
    "try:\n",
    "    num = float(\"word\")\n",
    "except ValueError:\n",
    "    print(\"That is not a float/decimal\")\n",
    "else:\n",
    "    print(\"Conversion worked! Decimal is:\", num)\n",
    "finally:\n",
    "    print(\"Done trying\")"
   ]
  },
  {
   "cell_type": "code",
   "execution_count": 89,
   "id": "a04eb200",
   "metadata": {},
   "outputs": [
    {
     "name": "stdout",
     "output_type": "stream",
     "text": [
      "Conversion worked! Number is: 42\n",
      "Done trying.\n"
     ]
    }
   ],
   "source": [
    "try:\n",
    "    num = int(\"42\")\n",
    "except ValueError:\n",
    "    print(\"That wasn't a number.\")\n",
    "else:\n",
    "    print(\"Conversion worked! Number is:\", num)\n",
    "finally:\n",
    "    print(\"Done trying.\")"
   ]
  },
  {
   "cell_type": "code",
   "execution_count": 1,
   "id": "ba56483a",
   "metadata": {},
   "outputs": [
    {
     "name": "stdout",
     "output_type": "stream",
     "text": [
      "that is not a float\n",
      "done trying\n"
     ]
    }
   ],
   "source": [
    "try:\n",
    "    num = float(\"word\")\n",
    "except ValueError:\n",
    "    print(\"that is not a float\")\n",
    "finally:\n",
    "    print(\"done trying\")"
   ]
  },
  {
   "cell_type": "code",
   "execution_count": 9,
   "id": "472c793a",
   "metadata": {},
   "outputs": [
    {
     "name": "stdout",
     "output_type": "stream",
     "text": [
      "Grade calculator:\n",
      "Grade A-\n"
     ]
    }
   ],
   "source": [
    "print(\"Grade calculator:\")\n",
    "grade = int(input(\"Enter total amount out of 250 points.\"))\n",
    "\n",
    "if grade > 238:\n",
    "    print(\"Grade A!\")\n",
    "    \n",
    "elif grade <= 237 and grade >= 225:\n",
    "    print(\"Grade A-\")\n",
    "    \n",
    "else:\n",
    "    print(\"You failed\")"
   ]
  },
  {
   "cell_type": "code",
   "execution_count": 12,
   "id": "d9633ed8",
   "metadata": {},
   "outputs": [
    {
     "name": "stdout",
     "output_type": "stream",
     "text": [
      "Enter a number\n"
     ]
    }
   ],
   "source": [
    "try:\n",
    "    currency = float(input(\"Enter currency in US dollars\\n\"))\n",
    "    country = input(\"Where are you traveling to: Europe, China, or Russia?\\n\")\n",
    "    \n",
    "    if country == 'China':\n",
    "        print(f\"The value of ${currency: .2f} USD is {currency * 7.2} Chinese Yuan\")\n",
    "    elif country == 'Europe':\n",
    "        print(f\"The value of ${currency: .2f} USD is {currency * 0.9} Euros\")\n",
    "    elif country == 'Russia':\n",
    "        print(f\"The value of ${currency: .2f} USD is {currency * 64.2} Russian rubles\")\n",
    "    else:\n",
    "        print(f\"We are not travelling to {country} at this time.\")\n",
    "        \n",
    "except ValueError:\n",
    "    print(\"Enter a number\")"
   ]
  },
  {
   "cell_type": "code",
   "execution_count": 15,
   "id": "bbd0e5b4",
   "metadata": {},
   "outputs": [
    {
     "name": "stdout",
     "output_type": "stream",
     "text": [
      "200.0\n"
     ]
    }
   ],
   "source": [
    "a = 100\n",
    "b = 200\n",
    "c = 300\n",
    "\n",
    "d = a + b\n",
    "e = c - a\n",
    "print(f\"{e:.1f}\")"
   ]
  },
  {
   "cell_type": "code",
   "execution_count": 24,
   "id": "933878ff",
   "metadata": {},
   "outputs": [
    {
     "name": "stdout",
     "output_type": "stream",
     "text": [
      "Enter int\n",
      "3\n"
     ]
    }
   ],
   "source": [
    "try:\n",
    "    x = int(input(\"enter an integer\"))\n",
    "\n",
    "    if x <= 0:\n",
    "        y = 1\n",
    "    \n",
    "    if x == 0:\n",
    "        y = 2\n",
    "    \n",
    "    if x >= 0:\n",
    "        y = 3\n",
    "    \n",
    "    else:\n",
    "        y=4\n",
    "    \n",
    "except ValueError:\n",
    "    print(\"Enter int\")\n",
    "    \n",
    "print(y)"
   ]
  },
  {
   "cell_type": "code",
   "execution_count": 25,
   "id": "3eedfcf3",
   "metadata": {},
   "outputs": [
    {
     "name": "stdout",
     "output_type": "stream",
     "text": [
      "You have 56 items.\n"
     ]
    }
   ],
   "source": [
    "items = 56\n",
    "print(f\"You have {items} items.\")"
   ]
  }
 ],
 "metadata": {
  "kernelspec": {
   "display_name": "base",
   "language": "python",
   "name": "python3"
  },
  "language_info": {
   "codemirror_mode": {
    "name": "ipython",
    "version": 3
   },
   "file_extension": ".py",
   "mimetype": "text/x-python",
   "name": "python",
   "nbconvert_exporter": "python",
   "pygments_lexer": "ipython3",
   "version": "3.12.4"
  }
 },
 "nbformat": 4,
 "nbformat_minor": 5
}

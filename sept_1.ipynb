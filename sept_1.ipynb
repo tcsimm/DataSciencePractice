{
 "cells": [
  {
   "cell_type": "code",
   "execution_count": 32,
   "id": "4ff9bfec",
   "metadata": {},
   "outputs": [],
   "source": [
    "import sqlite3\n",
    "from datetime import datetime "
   ]
  },
  {
   "cell_type": "code",
   "execution_count": 24,
   "id": "bf1a1d0f",
   "metadata": {},
   "outputs": [],
   "source": [
    "conn = sqlite3.connect('newdb.db')\n",
    "cursor = conn.cursor()"
   ]
  },
  {
   "cell_type": "code",
   "execution_count": 25,
   "id": "16d131fa",
   "metadata": {},
   "outputs": [
    {
     "data": {
      "text/plain": [
       "<sqlite3.Cursor at 0x10c7b2d40>"
      ]
     },
     "execution_count": 25,
     "metadata": {},
     "output_type": "execute_result"
    }
   ],
   "source": [
    "cursor.execute(\"DROP TABLE IF EXISTS Orders;\")"
   ]
  },
  {
   "cell_type": "code",
   "execution_count": 26,
   "id": "27b7d80f",
   "metadata": {},
   "outputs": [
    {
     "data": {
      "text/plain": [
       "<sqlite3.Cursor at 0x10c7b2d40>"
      ]
     },
     "execution_count": 26,
     "metadata": {},
     "output_type": "execute_result"
    }
   ],
   "source": [
    "# create orders table\n",
    "cursor.execute(\"\"\"\n",
    "CREATE TABLE IF NOT EXISTS Orders (\n",
    "    OrderID INTEGER PRIMARY KEY AUTOINCREMENT,\n",
    "    CustomerID INTEGER,\n",
    "    OrderDate TEXT,\n",
    "    TotalAmount REAL\n",
    "    )\n",
    "    \"\"\")"
   ]
  },
  {
   "cell_type": "code",
   "execution_count": 27,
   "id": "b8d9cfed",
   "metadata": {},
   "outputs": [
    {
     "data": {
      "text/plain": [
       "<sqlite3.Cursor at 0x10c7b2d40>"
      ]
     },
     "execution_count": 27,
     "metadata": {},
     "output_type": "execute_result"
    }
   ],
   "source": [
    "orders = [\n",
    "    (1, \"2023-01-15\", 250.00),\n",
    "    (2, \"2023-03-22\", 180.50),\n",
    "    (1, \"2023-07-09\", 99.99),\n",
    "    (3, \"2023-07-20\", 300.00),\n",
    "    (2, \"2024-01-11\", 450.75),\n",
    "    (3, \"2024-01-25\", 125.00),\n",
    "    (1, \"2024-04-05\", 220.40),\n",
    "    (2, \"2024-07-18\", 310.25),\n",
    "    (3, \"2024-07-30\", 150.00),\n",
    "    (1, \"2024-12-10\", 500.00),\n",
    "    (2, \"2025-01-01\", 275.50),\n",
    "]\n",
    "\n",
    "cursor.executemany(\"\"\"\n",
    "INSERT INTO Orders (CustomerID, OrderDate, TotalAmount)\n",
    "VALUES (?, ?, ?)\n",
    "\"\"\", orders)\n"
   ]
  },
  {
   "cell_type": "code",
   "execution_count": 28,
   "id": "eb239441",
   "metadata": {},
   "outputs": [
    {
     "name": "stdout",
     "output_type": "stream",
     "text": [
      "(1, 1, '2023-01-15', 250.0)\n",
      "(2, 2, '2023-03-22', 180.5)\n",
      "(3, 1, '2023-07-09', 99.99)\n",
      "(4, 3, '2023-07-20', 300.0)\n",
      "(5, 2, '2024-01-11', 450.75)\n",
      "(6, 3, '2024-01-25', 125.0)\n",
      "(7, 1, '2024-04-05', 220.4)\n",
      "(8, 2, '2024-07-18', 310.25)\n",
      "(9, 3, '2024-07-30', 150.0)\n",
      "(10, 1, '2024-12-10', 500.0)\n",
      "(11, 2, '2025-01-01', 275.5)\n"
     ]
    }
   ],
   "source": [
    "conn.commit()\n",
    "\n",
    "for row in cursor.execute(\"SELECT * FROM Orders\"):\n",
    "    print(row)"
   ]
  },
  {
   "cell_type": "code",
   "execution_count": 29,
   "id": "d5a4e604",
   "metadata": {},
   "outputs": [],
   "source": [
    "query = \"\"\"\n",
    "SELECT *\n",
    "FROM Orders\n",
    "WHERE YEAR(OrderDate) = 2024;\"\"\""
   ]
  },
  {
   "cell_type": "code",
   "execution_count": 33,
   "id": "b5881ada",
   "metadata": {},
   "outputs": [
    {
     "ename": "OperationalError",
     "evalue": "no such function: YEAR",
     "output_type": "error",
     "traceback": [
      "\u001b[0;31m---------------------------------------------------------------------------\u001b[0m",
      "\u001b[0;31mOperationalError\u001b[0m                          Traceback (most recent call last)",
      "Cell \u001b[0;32mIn[33], line 1\u001b[0m\n\u001b[0;32m----> 1\u001b[0m conn\u001b[38;5;241m.\u001b[39mexecute(query)\n",
      "\u001b[0;31mOperationalError\u001b[0m: no such function: YEAR"
     ]
    }
   ],
   "source": [
    "conn.execute(query)"
   ]
  }
 ],
 "metadata": {
  "kernelspec": {
   "display_name": "base",
   "language": "python",
   "name": "python3"
  },
  "language_info": {
   "codemirror_mode": {
    "name": "ipython",
    "version": 3
   },
   "file_extension": ".py",
   "mimetype": "text/x-python",
   "name": "python",
   "nbconvert_exporter": "python",
   "pygments_lexer": "ipython3",
   "version": "3.12.4"
  }
 },
 "nbformat": 4,
 "nbformat_minor": 5
}

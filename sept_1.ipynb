{
 "cells": [
  {
   "cell_type": "code",
   "execution_count": 1,
   "id": "4ff9bfec",
   "metadata": {},
   "outputs": [],
   "source": [
    "import sqlite3\n",
    "import datetime "
   ]
  },
  {
   "cell_type": "code",
   "execution_count": 2,
   "id": "bf1a1d0f",
   "metadata": {},
   "outputs": [],
   "source": [
    "conn = sqlite3.connect('newdb.db')\n",
    "cursor = conn.cursor()"
   ]
  },
  {
   "cell_type": "code",
   "execution_count": 3,
   "id": "16d131fa",
   "metadata": {},
   "outputs": [
    {
     "data": {
      "text/plain": [
       "<sqlite3.Cursor at 0x106231840>"
      ]
     },
     "execution_count": 3,
     "metadata": {},
     "output_type": "execute_result"
    }
   ],
   "source": [
    "cursor.execute(\"DROP TABLE IF EXISTS Orders;\")"
   ]
  },
  {
   "cell_type": "code",
   "execution_count": 7,
   "id": "27b7d80f",
   "metadata": {},
   "outputs": [
    {
     "data": {
      "text/plain": [
       "<sqlite3.Cursor at 0x106231840>"
      ]
     },
     "execution_count": 7,
     "metadata": {},
     "output_type": "execute_result"
    }
   ],
   "source": [
    "# create orders table\n",
    "cursor.execute(\"\"\"\n",
    "CREATE TABLE IF NOT EXISTS Orders (\n",
    "    OrderID INTEGER PRIMARY KEY AUTOINCREMENT,\n",
    "    CustomerID INTEGER,\n",
    "    OrderDate TEXT,\n",
    "    TotalAmount REAL\n",
    "    )\n",
    "    \"\"\")"
   ]
  },
  {
   "cell_type": "code",
   "execution_count": 9,
   "id": "b8d9cfed",
   "metadata": {},
   "outputs": [
    {
     "data": {
      "text/plain": [
       "<sqlite3.Cursor at 0x106231840>"
      ]
     },
     "execution_count": 9,
     "metadata": {},
     "output_type": "execute_result"
    }
   ],
   "source": [
    "orders = [\n",
    "    (1, \"2023-01-15\", 250.00),\n",
    "    (2, \"2023-03-22\", 180.50),\n",
    "    (1, \"2023-07-09\", 99.99),\n",
    "    (3, \"2023-07-20\", 300.00),\n",
    "    (2, \"2024-01-11\", 450.75),\n",
    "    (3, \"2024-01-25\", 125.00),\n",
    "    (1, \"2024-04-05\", 220.40),\n",
    "    (2, \"2024-07-18\", 310.25),\n",
    "    (3, \"2024-07-30\", 150.00),\n",
    "    (1, \"2024-12-10\", 500.00),\n",
    "    (2, \"2025-01-01\", 275.50),\n",
    "]\n",
    "\n",
    "cursor.executemany(\"\"\"\n",
    "INSERT INTO Orders (CustomerID, OrderDate, TotalAmount)\n",
    "VALUES (?, ?, ?)\n",
    "\"\"\", orders)\n"
   ]
  },
  {
   "cell_type": "code",
   "execution_count": 11,
   "id": "eb239441",
   "metadata": {},
   "outputs": [
    {
     "name": "stdout",
     "output_type": "stream",
     "text": [
      "(1, 1, '2023-01-15', 250.0)\n",
      "(2, 2, '2023-03-22', 180.5)\n",
      "(3, 1, '2023-07-09', 99.99)\n",
      "(4, 3, '2023-07-20', 300.0)\n",
      "(5, 2, '2024-01-11', 450.75)\n",
      "(6, 3, '2024-01-25', 125.0)\n",
      "(7, 1, '2024-04-05', 220.4)\n",
      "(8, 2, '2024-07-18', 310.25)\n",
      "(9, 3, '2024-07-30', 150.0)\n",
      "(10, 1, '2024-12-10', 500.0)\n",
      "(11, 2, '2025-01-01', 275.5)\n",
      "(12, 1, '2023-01-15', 250.0)\n",
      "(13, 2, '2023-03-22', 180.5)\n",
      "(14, 1, '2023-07-09', 99.99)\n",
      "(15, 3, '2023-07-20', 300.0)\n",
      "(16, 2, '2024-01-11', 450.75)\n",
      "(17, 3, '2024-01-25', 125.0)\n",
      "(18, 1, '2024-04-05', 220.4)\n",
      "(19, 2, '2024-07-18', 310.25)\n",
      "(20, 3, '2024-07-30', 150.0)\n",
      "(21, 1, '2024-12-10', 500.0)\n",
      "(22, 2, '2025-01-01', 275.5)\n"
     ]
    }
   ],
   "source": [
    "conn.commit()\n",
    "\n",
    "for row in cursor.execute(\"SELECT * FROM Orders\"):\n",
    "    print(row)"
   ]
  },
  {
   "cell_type": "code",
   "execution_count": 12,
   "id": "d5a4e604",
   "metadata": {},
   "outputs": [],
   "source": [
    "query = \"\"\"\n",
    "SELECT *\n",
    "FROM Orders\n",
    "WHERE YEAR(OrderDate) = 2024;\"\"\""
   ]
  }
 ],
 "metadata": {
  "kernelspec": {
   "display_name": "base",
   "language": "python",
   "name": "python3"
  },
  "language_info": {
   "codemirror_mode": {
    "name": "ipython",
    "version": 3
   },
   "file_extension": ".py",
   "mimetype": "text/x-python",
   "name": "python",
   "nbconvert_exporter": "python",
   "pygments_lexer": "ipython3",
   "version": "3.12.4"
  }
 },
 "nbformat": 4,
 "nbformat_minor": 5
}

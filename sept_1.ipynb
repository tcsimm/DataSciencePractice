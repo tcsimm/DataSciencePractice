{
 "cells": [
  {
   "cell_type": "code",
   "execution_count": 1,
   "id": "4ff9bfec",
   "metadata": {},
   "outputs": [],
   "source": [
    "import sqlite3\n",
    "import datetime "
   ]
  },
  {
   "cell_type": "code",
   "execution_count": 2,
   "id": "bf1a1d0f",
   "metadata": {},
   "outputs": [],
   "source": [
    "conn = sqlite3.connect('newdb.db')\n",
    "cursor = conn.cursor()"
   ]
  },
  {
   "cell_type": "code",
   "execution_count": 3,
   "id": "16d131fa",
   "metadata": {},
   "outputs": [
    {
     "data": {
      "text/plain": [
       "<sqlite3.Cursor at 0x106231840>"
      ]
     },
     "execution_count": 3,
     "metadata": {},
     "output_type": "execute_result"
    }
   ],
   "source": [
    "cursor.execute(\"DROP TABLE IF EXISTS Orders;\")"
   ]
  },
  {
   "cell_type": "code",
   "execution_count": 7,
   "id": "27b7d80f",
   "metadata": {},
   "outputs": [
    {
     "data": {
      "text/plain": [
       "<sqlite3.Cursor at 0x106231840>"
      ]
     },
     "execution_count": 7,
     "metadata": {},
     "output_type": "execute_result"
    }
   ],
   "source": [
    "# create orders table\n",
    "cursor.execute(\"\"\"\n",
    "CREATE TABLE IF NOT EXISTS Orders (\n",
    "    OrderID INTEGER PRIMARY KEY AUTOINCREMENT,\n",
    "    CustomerID INTEGER,\n",
    "    OrderDate TEXT,\n",
    "    TotalAmount REAL\n",
    "    )\n",
    "    \"\"\")"
   ]
  },
  {
   "cell_type": "code",
   "execution_count": 8,
   "id": "b8d9cfed",
   "metadata": {},
   "outputs": [
    {
     "data": {
      "text/plain": [
       "<sqlite3.Cursor at 0x106231840>"
      ]
     },
     "execution_count": 8,
     "metadata": {},
     "output_type": "execute_result"
    }
   ],
   "source": [
    "orders = [\n",
    "    (1, \"2023-01-15\", 250.00),\n",
    "    (2, \"2023-03-22\", 180.50),\n",
    "    (1, \"2023-07-09\", 99.99),\n",
    "    (3, \"2023-07-20\", 300.00),\n",
    "    (2, \"2024-01-11\", 450.75),\n",
    "    (3, \"2024-01-25\", 125.00),\n",
    "    (1, \"2024-04-05\", 220.40),\n",
    "    (2, \"2024-07-18\", 310.25),\n",
    "    (3, \"2024-07-30\", 150.00),\n",
    "    (1, \"2024-12-10\", 500.00),\n",
    "    (2, \"2025-01-01\", 275.50),\n",
    "]\n",
    "\n",
    "cursor.executemany(\"\"\"\n",
    "INSERT INTO Orders (CustomerID, OrderDate, TotalAmount)\n",
    "VALUES (?, ?, ?)\n",
    "\"\"\", orders)\n"
   ]
  }
 ],
 "metadata": {
  "kernelspec": {
   "display_name": "base",
   "language": "python",
   "name": "python3"
  },
  "language_info": {
   "codemirror_mode": {
    "name": "ipython",
    "version": 3
   },
   "file_extension": ".py",
   "mimetype": "text/x-python",
   "name": "python",
   "nbconvert_exporter": "python",
   "pygments_lexer": "ipython3",
   "version": "3.12.4"
  }
 },
 "nbformat": 4,
 "nbformat_minor": 5
}

{
 "cells": [
  {
   "cell_type": "code",
   "execution_count": 13,
   "id": "d09a7d3f",
   "metadata": {},
   "outputs": [],
   "source": [
    "import pandas as pd\n",
    "\n",
    "def big_countries(world: pd.DataFrame) -> pd.DataFrame:\n",
    "    return world.loc[(world['population'] >= 25000000) | (world['area'] >= 3000000), ['name','population','area']]"
   ]
  },
  {
   "cell_type": "code",
   "execution_count": 18,
   "id": "7c2437bd",
   "metadata": {},
   "outputs": [
    {
     "data": {
      "text/html": [
       "<div>\n",
       "<style scoped>\n",
       "    .dataframe tbody tr th:only-of-type {\n",
       "        vertical-align: middle;\n",
       "    }\n",
       "\n",
       "    .dataframe tbody tr th {\n",
       "        vertical-align: top;\n",
       "    }\n",
       "\n",
       "    .dataframe thead th {\n",
       "        text-align: right;\n",
       "    }\n",
       "</style>\n",
       "<table border=\"1\" class=\"dataframe\">\n",
       "  <thead>\n",
       "    <tr style=\"text-align: right;\">\n",
       "      <th></th>\n",
       "      <th>name</th>\n",
       "      <th>population</th>\n",
       "      <th>area</th>\n",
       "    </tr>\n",
       "  </thead>\n",
       "  <tbody>\n",
       "    <tr>\n",
       "      <th>0</th>\n",
       "      <td>Afghanistan</td>\n",
       "      <td>25500100</td>\n",
       "      <td>652230</td>\n",
       "    </tr>\n",
       "    <tr>\n",
       "      <th>2</th>\n",
       "      <td>Algeria</td>\n",
       "      <td>37100000</td>\n",
       "      <td>2381741</td>\n",
       "    </tr>\n",
       "  </tbody>\n",
       "</table>\n",
       "</div>"
      ],
      "text/plain": [
       "          name  population     area\n",
       "0  Afghanistan    25500100   652230\n",
       "2      Algeria    37100000  2381741"
      ]
     },
     "execution_count": 18,
     "metadata": {},
     "output_type": "execute_result"
    }
   ],
   "source": [
    "big_countries(world)"
   ]
  },
  {
   "cell_type": "code",
   "execution_count": 16,
   "id": "8759f79e",
   "metadata": {},
   "outputs": [],
   "source": [
    "world = pd.DataFrame({\n",
    "    \"name\": [\"Afghanistan\", \"Albania\", \"Algeria\"],\n",
    "    \"continent\": [\"Asia\", \"Europe\", \"Africa\"],\n",
    "    \"area\": [652230, 28748, 2381741],\n",
    "    \"population\": [25500100, 2831741, 37100000],\n",
    "    \"gdp\": [20343000000, 12960000000, 188681000000]\n",
    "})"
   ]
  },
  {
   "cell_type": "code",
   "execution_count": 31,
   "id": "95fe0588",
   "metadata": {},
   "outputs": [],
   "source": [
    "report = pd.DataFrame({\n",
    "    \"product\": [\"A\", \"B\", \"C\"],\n",
    "    \"quarter1\": [100, 150, 200],\n",
    "    \"quarter2\": [110, 160, 210],\n",
    "    \"quarter3\": [120, 170, 220],\n",
    "    \"quarter4\": [130, 180, 230]\n",
    "})"
   ]
  },
  {
   "cell_type": "code",
   "execution_count": 32,
   "id": "b7cd2478",
   "metadata": {},
   "outputs": [],
   "source": [
    "def meltTable(report: pd.DataFrame) -> pd.DataFrame:\n",
    "    report = report.melt(\n",
    "        id_vars=['product'],\n",
    "        value_vars=['quarter1','quarter2','quarter3','quarter4'],\n",
    "        var_name='quarter',\n",
    "        value_name='sales'\n",
    "    )\n",
    "    return report"
   ]
  },
  {
   "cell_type": "code",
   "execution_count": 33,
   "id": "4edfc546",
   "metadata": {},
   "outputs": [
    {
     "name": "stdout",
     "output_type": "stream",
     "text": [
      "   product   quarter  sales\n",
      "0        A  quarter1    100\n",
      "1        B  quarter1    150\n",
      "2        C  quarter1    200\n",
      "3        A  quarter2    110\n",
      "4        B  quarter2    160\n",
      "5        C  quarter2    210\n",
      "6        A  quarter3    120\n",
      "7        B  quarter3    170\n",
      "8        C  quarter3    220\n",
      "9        A  quarter4    130\n",
      "10       B  quarter4    180\n",
      "11       C  quarter4    230\n"
     ]
    }
   ],
   "source": [
    "print(meltTable(report))"
   ]
  },
  {
   "cell_type": "code",
   "execution_count": 35,
   "id": "117d6dd2",
   "metadata": {},
   "outputs": [],
   "source": [
    "def findHeavyAnimals(animals:pd.DataFrame) -> pd.DataFrame:\n",
    "    return animals[animals['weight'] > 100].sort_values(by='weight', ascending=False)[['name']]"
   ]
  },
  {
   "cell_type": "code",
   "execution_count": 36,
   "id": "d17b5539",
   "metadata": {},
   "outputs": [],
   "source": [
    "animals = pd.DataFrame({\n",
    "    \"name\": [\"Elephant\", \"Tiger\", \"Dog\", \"Giraffe\", \"Cat\"],\n",
    "    \"weight\": [5000, 220, 30, 800, 10],\n",
    "    \"legs\": [4, 4, 4, 4, 4]\n",
    "})"
   ]
  },
  {
   "cell_type": "code",
   "execution_count": 38,
   "id": "0ceaa8ed",
   "metadata": {},
   "outputs": [
    {
     "data": {
      "text/html": [
       "<div>\n",
       "<style scoped>\n",
       "    .dataframe tbody tr th:only-of-type {\n",
       "        vertical-align: middle;\n",
       "    }\n",
       "\n",
       "    .dataframe tbody tr th {\n",
       "        vertical-align: top;\n",
       "    }\n",
       "\n",
       "    .dataframe thead th {\n",
       "        text-align: right;\n",
       "    }\n",
       "</style>\n",
       "<table border=\"1\" class=\"dataframe\">\n",
       "  <thead>\n",
       "    <tr style=\"text-align: right;\">\n",
       "      <th></th>\n",
       "      <th>name</th>\n",
       "    </tr>\n",
       "  </thead>\n",
       "  <tbody>\n",
       "    <tr>\n",
       "      <th>0</th>\n",
       "      <td>Elephant</td>\n",
       "    </tr>\n",
       "    <tr>\n",
       "      <th>3</th>\n",
       "      <td>Giraffe</td>\n",
       "    </tr>\n",
       "    <tr>\n",
       "      <th>1</th>\n",
       "      <td>Tiger</td>\n",
       "    </tr>\n",
       "  </tbody>\n",
       "</table>\n",
       "</div>"
      ],
      "text/plain": [
       "       name\n",
       "0  Elephant\n",
       "3   Giraffe\n",
       "1     Tiger"
      ]
     },
     "execution_count": 38,
     "metadata": {},
     "output_type": "execute_result"
    }
   ],
   "source": [
    "findHeavyAnimals(animals)"
   ]
  },
  {
   "cell_type": "code",
   "execution_count": 40,
   "id": "f27c9b7e",
   "metadata": {},
   "outputs": [],
   "source": [
    "query = \"\"\"SELECT\n",
    "SUM(CASE WHEN device_type = 'laptop' THEN 1 ELSE 0 END) AS laptop_views,\n",
    "SUM(CASE WHEN device_type IN ('phone','tablet') THEN 1 ELSE 0 END) AS mobile_views\n",
    "FROM viewership;\n",
    "\"\"\""
   ]
  },
  {
   "cell_type": "code",
   "execution_count": 42,
   "id": "b5ab41fe",
   "metadata": {},
   "outputs": [],
   "source": [
    "import sqlite3\n",
    "conn = sqlite3.connect(\"dbdb.db\")\n",
    "cursor = conn.cursor()"
   ]
  },
  {
   "cell_type": "code",
   "execution_count": 43,
   "id": "d0d43136",
   "metadata": {},
   "outputs": [
    {
     "data": {
      "text/plain": [
       "<sqlite3.Cursor at 0x16b3db9c0>"
      ]
     },
     "execution_count": 43,
     "metadata": {},
     "output_type": "execute_result"
    }
   ],
   "source": [
    "cursor.execute(\"\"\"CREATE TABLE IF NOT EXISTS viewership (\n",
    "    user_id INT,\n",
    "    device_type TEXT\n",
    "    );\"\"\")"
   ]
  },
  {
   "cell_type": "code",
   "execution_count": 44,
   "id": "83279c30",
   "metadata": {},
   "outputs": [],
   "source": [
    "data = [\n",
    "    (1, 'laptop'),\n",
    "    (2, 'phone'),\n",
    "    (3, 'tablet'),\n",
    "    (4, 'laptop'),\n",
    "    (5, 'phone'),\n",
    "    (6, 'laptop'),\n",
    "    (7, 'tablet'),\n",
    "    (8, 'phone'),\n",
    "    (9, 'laptop'),\n",
    "    (10, 'phone')\n",
    "]\n",
    "cursor.executemany(\"INSERT INTO viewership (user_id, device_type) VALUES (?, ?)\", data)\n",
    "conn.commit()\n"
   ]
  },
  {
   "cell_type": "code",
   "execution_count": null,
   "id": "56ea2ecf",
   "metadata": {},
   "outputs": [],
   "source": []
  }
 ],
 "metadata": {
  "kernelspec": {
   "display_name": "base",
   "language": "python",
   "name": "python3"
  },
  "language_info": {
   "codemirror_mode": {
    "name": "ipython",
    "version": 3
   },
   "file_extension": ".py",
   "mimetype": "text/x-python",
   "name": "python",
   "nbconvert_exporter": "python",
   "pygments_lexer": "ipython3",
   "version": "3.12.4"
  }
 },
 "nbformat": 4,
 "nbformat_minor": 5
}

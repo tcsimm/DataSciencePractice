{
 "cells": [
  {
   "cell_type": "code",
   "execution_count": 1,
   "id": "afbeca61",
   "metadata": {},
   "outputs": [],
   "source": [
    "# Imports\n",
    "import sqlite3\n",
    "import pandas as pd\n",
    "import matplotlib.pyplot as plt\n",
    "import seaborn as sns"
   ]
  },
  {
   "cell_type": "code",
   "execution_count": 2,
   "id": "072086c8",
   "metadata": {},
   "outputs": [],
   "source": [
    "df = pd.read_csv(\"/Users/thomassimmons/c/d/datasets/retail_store_sales.csv\")"
   ]
  },
  {
   "cell_type": "code",
   "execution_count": 3,
   "id": "fdba924f",
   "metadata": {},
   "outputs": [
    {
     "data": {
      "text/html": [
       "<div>\n",
       "<style scoped>\n",
       "    .dataframe tbody tr th:only-of-type {\n",
       "        vertical-align: middle;\n",
       "    }\n",
       "\n",
       "    .dataframe tbody tr th {\n",
       "        vertical-align: top;\n",
       "    }\n",
       "\n",
       "    .dataframe thead th {\n",
       "        text-align: right;\n",
       "    }\n",
       "</style>\n",
       "<table border=\"1\" class=\"dataframe\">\n",
       "  <thead>\n",
       "    <tr style=\"text-align: right;\">\n",
       "      <th></th>\n",
       "      <th>Transaction ID</th>\n",
       "      <th>Customer ID</th>\n",
       "      <th>Category</th>\n",
       "      <th>Item</th>\n",
       "      <th>Price Per Unit</th>\n",
       "      <th>Quantity</th>\n",
       "      <th>Total Spent</th>\n",
       "      <th>Payment Method</th>\n",
       "      <th>Location</th>\n",
       "      <th>Transaction Date</th>\n",
       "      <th>Discount Applied</th>\n",
       "    </tr>\n",
       "  </thead>\n",
       "  <tbody>\n",
       "    <tr>\n",
       "      <th>0</th>\n",
       "      <td>TXN_6867343</td>\n",
       "      <td>CUST_09</td>\n",
       "      <td>Patisserie</td>\n",
       "      <td>Item_10_PAT</td>\n",
       "      <td>18.5</td>\n",
       "      <td>10.0</td>\n",
       "      <td>185.0</td>\n",
       "      <td>Digital Wallet</td>\n",
       "      <td>Online</td>\n",
       "      <td>2024-04-08</td>\n",
       "      <td>True</td>\n",
       "    </tr>\n",
       "    <tr>\n",
       "      <th>1</th>\n",
       "      <td>TXN_3731986</td>\n",
       "      <td>CUST_22</td>\n",
       "      <td>Milk Products</td>\n",
       "      <td>Item_17_MILK</td>\n",
       "      <td>29.0</td>\n",
       "      <td>9.0</td>\n",
       "      <td>261.0</td>\n",
       "      <td>Digital Wallet</td>\n",
       "      <td>Online</td>\n",
       "      <td>2023-07-23</td>\n",
       "      <td>True</td>\n",
       "    </tr>\n",
       "    <tr>\n",
       "      <th>2</th>\n",
       "      <td>TXN_9303719</td>\n",
       "      <td>CUST_02</td>\n",
       "      <td>Butchers</td>\n",
       "      <td>Item_12_BUT</td>\n",
       "      <td>21.5</td>\n",
       "      <td>2.0</td>\n",
       "      <td>43.0</td>\n",
       "      <td>Credit Card</td>\n",
       "      <td>Online</td>\n",
       "      <td>2022-10-05</td>\n",
       "      <td>False</td>\n",
       "    </tr>\n",
       "    <tr>\n",
       "      <th>3</th>\n",
       "      <td>TXN_9458126</td>\n",
       "      <td>CUST_06</td>\n",
       "      <td>Beverages</td>\n",
       "      <td>Item_16_BEV</td>\n",
       "      <td>27.5</td>\n",
       "      <td>9.0</td>\n",
       "      <td>247.5</td>\n",
       "      <td>Credit Card</td>\n",
       "      <td>Online</td>\n",
       "      <td>2022-05-07</td>\n",
       "      <td>NaN</td>\n",
       "    </tr>\n",
       "    <tr>\n",
       "      <th>4</th>\n",
       "      <td>TXN_4575373</td>\n",
       "      <td>CUST_05</td>\n",
       "      <td>Food</td>\n",
       "      <td>Item_6_FOOD</td>\n",
       "      <td>12.5</td>\n",
       "      <td>7.0</td>\n",
       "      <td>87.5</td>\n",
       "      <td>Digital Wallet</td>\n",
       "      <td>Online</td>\n",
       "      <td>2022-10-02</td>\n",
       "      <td>False</td>\n",
       "    </tr>\n",
       "  </tbody>\n",
       "</table>\n",
       "</div>"
      ],
      "text/plain": [
       "  Transaction ID Customer ID       Category          Item  Price Per Unit  \\\n",
       "0    TXN_6867343     CUST_09     Patisserie   Item_10_PAT            18.5   \n",
       "1    TXN_3731986     CUST_22  Milk Products  Item_17_MILK            29.0   \n",
       "2    TXN_9303719     CUST_02       Butchers   Item_12_BUT            21.5   \n",
       "3    TXN_9458126     CUST_06      Beverages   Item_16_BEV            27.5   \n",
       "4    TXN_4575373     CUST_05           Food   Item_6_FOOD            12.5   \n",
       "\n",
       "   Quantity  Total Spent  Payment Method Location Transaction Date  \\\n",
       "0      10.0        185.0  Digital Wallet   Online       2024-04-08   \n",
       "1       9.0        261.0  Digital Wallet   Online       2023-07-23   \n",
       "2       2.0         43.0     Credit Card   Online       2022-10-05   \n",
       "3       9.0        247.5     Credit Card   Online       2022-05-07   \n",
       "4       7.0         87.5  Digital Wallet   Online       2022-10-02   \n",
       "\n",
       "  Discount Applied  \n",
       "0             True  \n",
       "1             True  \n",
       "2            False  \n",
       "3              NaN  \n",
       "4            False  "
      ]
     },
     "execution_count": 3,
     "metadata": {},
     "output_type": "execute_result"
    }
   ],
   "source": [
    "df.head()"
   ]
  },
  {
   "cell_type": "code",
   "execution_count": 11,
   "id": "4e5114bb",
   "metadata": {},
   "outputs": [
    {
     "data": {
      "text/plain": [
       "transaction_id      0\n",
       "customer_id         0\n",
       "category            0\n",
       "item                0\n",
       "price_per_unit      0\n",
       "quantity            0\n",
       "total_spent         0\n",
       "payment_method      0\n",
       "location            0\n",
       "transaction_date    0\n",
       "discount_applied    0\n",
       "dtype: int64"
      ]
     },
     "execution_count": 11,
     "metadata": {},
     "output_type": "execute_result"
    }
   ],
   "source": [
    "df.isnull().sum()"
   ]
  },
  {
   "cell_type": "code",
   "execution_count": 5,
   "id": "f8f6cd05",
   "metadata": {},
   "outputs": [
    {
     "data": {
      "text/plain": [
       "(12575, 11)"
      ]
     },
     "execution_count": 5,
     "metadata": {},
     "output_type": "execute_result"
    }
   ],
   "source": [
    "df.shape"
   ]
  },
  {
   "cell_type": "code",
   "execution_count": 8,
   "id": "814bd20b",
   "metadata": {},
   "outputs": [
    {
     "data": {
      "text/plain": [
       "Index(['transaction_id', 'customer_id', 'category', 'item', 'price_per_unit',\n",
       "       'quantity', 'total_spent', 'payment_method', 'location',\n",
       "       'transaction_date', 'discount_applied'],\n",
       "      dtype='object')"
      ]
     },
     "execution_count": 8,
     "metadata": {},
     "output_type": "execute_result"
    }
   ],
   "source": [
    "df.columns"
   ]
  },
  {
   "cell_type": "code",
   "execution_count": 7,
   "id": "155babdc",
   "metadata": {},
   "outputs": [],
   "source": [
    "df.columns = df.columns.str.strip().str.replace(\" \", \"_\").str.lower()"
   ]
  },
  {
   "cell_type": "code",
   "execution_count": 12,
   "id": "0c793c1d",
   "metadata": {},
   "outputs": [],
   "source": [
    "df = df.dropna(subset = ['item', 'price_per_unit', 'quantity', 'total_spent', 'discount_applied'])"
   ]
  },
  {
   "cell_type": "code",
   "execution_count": 16,
   "id": "66d5e625",
   "metadata": {},
   "outputs": [],
   "source": [
    "df['transaction_date'] = pd.to_datetime(df['transaction_date'], errors='coerce')"
   ]
  },
  {
   "cell_type": "code",
   "execution_count": 17,
   "id": "372a115a",
   "metadata": {},
   "outputs": [],
   "source": [
    "df['month'] = df['transaction_date'].dt.to_period(\"M\")"
   ]
  },
  {
   "cell_type": "code",
   "execution_count": 18,
   "id": "2960625a",
   "metadata": {},
   "outputs": [
    {
     "name": "stdout",
     "output_type": "stream",
     "text": [
      "Data types:\n",
      " transaction_id              object\n",
      "customer_id                 object\n",
      "category                    object\n",
      "item                        object\n",
      "price_per_unit             float64\n",
      "quantity                   float64\n",
      "total_spent                float64\n",
      "payment_method              object\n",
      "location                    object\n",
      "transaction_date    datetime64[ns]\n",
      "discount_applied            object\n",
      "month                    period[M]\n",
      "dtype: object\n"
     ]
    }
   ],
   "source": [
    "print(\"Data types:\\n\", df.dtypes)"
   ]
  },
  {
   "cell_type": "code",
   "execution_count": 19,
   "id": "6561c0cc",
   "metadata": {},
   "outputs": [
    {
     "data": {
      "text/plain": [
       "0        2024-04\n",
       "1        2023-07\n",
       "2        2022-10\n",
       "4        2022-10\n",
       "6        2023-06\n",
       "          ...   \n",
       "12566    2023-05\n",
       "12567    2023-03\n",
       "12569    2024-05\n",
       "12571    2022-08\n",
       "12573    2023-12\n",
       "Name: month, Length: 7579, dtype: period[M]"
      ]
     },
     "execution_count": 19,
     "metadata": {},
     "output_type": "execute_result"
    }
   ],
   "source": [
    "df['month']"
   ]
  },
  {
   "cell_type": "code",
   "execution_count": 24,
   "id": "390fd23f",
   "metadata": {},
   "outputs": [
    {
     "data": {
      "image/png": "[encoded data removed]",
      "text/plain": [
       "<Figure size 1200x600 with 1 Axes>"
      ]
     },
     "metadata": {},
     "output_type": "display_data"
    }
   ],
   "source": [
    "plt.figure(figsize=(12,6))\n",
    "sns.histplot(df['category'])\n",
    "plt.xticks(rotation=45, ha='right')\n",
    "plt.title(\"Distribution of categories\")\n",
    "plt.tight_layout()\n",
    "plt.show()"
   ]
  },
  {
   "cell_type": "code",
   "execution_count": 25,
   "id": "6f1ec400",
   "metadata": {},
   "outputs": [
    {
     "name": "stdout",
     "output_type": "stream",
     "text": [
      "Dataframe columns:\n",
      " Index(['transaction_id', 'customer_id', 'category', 'item', 'price_per_unit',\n",
      "       'quantity', 'total_spent', 'payment_method', 'location',\n",
      "       'transaction_date', 'discount_applied', 'month'],\n",
      "      dtype='object')\n",
      "\n",
      "Data types:\n",
      " transaction_id              object\n",
      "customer_id                 object\n",
      "category                    object\n",
      "item                        object\n",
      "price_per_unit             float64\n",
      "quantity                   float64\n",
      "total_spent                float64\n",
      "payment_method              object\n",
      "location                    object\n",
      "transaction_date    datetime64[ns]\n",
      "discount_applied            object\n",
      "month                    period[M]\n",
      "dtype: object\n"
     ]
    }
   ],
   "source": [
    "print(\"Dataframe columns:\\n\", df.columns)\n",
    "print(\"\\nData types:\\n\", df.dtypes)"
   ]
  },
  {
   "cell_type": "code",
   "execution_count": 27,
   "id": "e295397a",
   "metadata": {},
   "outputs": [
    {
     "data": {
      "text/html": [
       "<div>\n",
       "<style scoped>\n",
       "    .dataframe tbody tr th:only-of-type {\n",
       "        vertical-align: middle;\n",
       "    }\n",
       "\n",
       "    .dataframe tbody tr th {\n",
       "        vertical-align: top;\n",
       "    }\n",
       "\n",
       "    .dataframe thead th {\n",
       "        text-align: right;\n",
       "    }\n",
       "</style>\n",
       "<table border=\"1\" class=\"dataframe\">\n",
       "  <thead>\n",
       "    <tr style=\"text-align: right;\">\n",
       "      <th></th>\n",
       "      <th>transaction_id</th>\n",
       "      <th>customer_id</th>\n",
       "      <th>category</th>\n",
       "      <th>item</th>\n",
       "      <th>price_per_unit</th>\n",
       "      <th>quantity</th>\n",
       "      <th>total_spent</th>\n",
       "      <th>payment_method</th>\n",
       "      <th>location</th>\n",
       "      <th>transaction_date</th>\n",
       "      <th>discount_applied</th>\n",
       "      <th>month</th>\n",
       "    </tr>\n",
       "  </thead>\n",
       "  <tbody>\n",
       "    <tr>\n",
       "      <th>count</th>\n",
       "      <td>7579</td>\n",
       "      <td>7579</td>\n",
       "      <td>7579</td>\n",
       "      <td>7579</td>\n",
       "      <td>7579.000000</td>\n",
       "      <td>7579.000000</td>\n",
       "      <td>7579.000000</td>\n",
       "      <td>7579</td>\n",
       "      <td>7579</td>\n",
       "      <td>7579</td>\n",
       "      <td>7579</td>\n",
       "      <td>7579</td>\n",
       "    </tr>\n",
       "    <tr>\n",
       "      <th>unique</th>\n",
       "      <td>7579</td>\n",
       "      <td>25</td>\n",
       "      <td>8</td>\n",
       "      <td>200</td>\n",
       "      <td>NaN</td>\n",
       "      <td>NaN</td>\n",
       "      <td>NaN</td>\n",
       "      <td>3</td>\n",
       "      <td>2</td>\n",
       "      <td>NaN</td>\n",
       "      <td>2</td>\n",
       "      <td>37</td>\n",
       "    </tr>\n",
       "    <tr>\n",
       "      <th>top</th>\n",
       "      <td>TXN_6867343</td>\n",
       "      <td>CUST_05</td>\n",
       "      <td>Milk Products</td>\n",
       "      <td>Item_11_MILK</td>\n",
       "      <td>NaN</td>\n",
       "      <td>NaN</td>\n",
       "      <td>NaN</td>\n",
       "      <td>Cash</td>\n",
       "      <td>Online</td>\n",
       "      <td>NaN</td>\n",
       "      <td>True</td>\n",
       "      <td>2022-01</td>\n",
       "    </tr>\n",
       "    <tr>\n",
       "      <th>freq</th>\n",
       "      <td>1</td>\n",
       "      <td>352</td>\n",
       "      <td>979</td>\n",
       "      <td>80</td>\n",
       "      <td>NaN</td>\n",
       "      <td>NaN</td>\n",
       "      <td>NaN</td>\n",
       "      <td>2583</td>\n",
       "      <td>3835</td>\n",
       "      <td>NaN</td>\n",
       "      <td>3801</td>\n",
       "      <td>242</td>\n",
       "    </tr>\n",
       "    <tr>\n",
       "      <th>mean</th>\n",
       "      <td>NaN</td>\n",
       "      <td>NaN</td>\n",
       "      <td>NaN</td>\n",
       "      <td>NaN</td>\n",
       "      <td>23.428882</td>\n",
       "      <td>5.557329</td>\n",
       "      <td>130.427893</td>\n",
       "      <td>NaN</td>\n",
       "      <td>NaN</td>\n",
       "      <td>2023-07-11 13:57:42.250956544</td>\n",
       "      <td>NaN</td>\n",
       "      <td>NaN</td>\n",
       "    </tr>\n",
       "    <tr>\n",
       "      <th>min</th>\n",
       "      <td>NaN</td>\n",
       "      <td>NaN</td>\n",
       "      <td>NaN</td>\n",
       "      <td>NaN</td>\n",
       "      <td>5.000000</td>\n",
       "      <td>1.000000</td>\n",
       "      <td>5.000000</td>\n",
       "      <td>NaN</td>\n",
       "      <td>NaN</td>\n",
       "      <td>2022-01-01 00:00:00</td>\n",
       "      <td>NaN</td>\n",
       "      <td>NaN</td>\n",
       "    </tr>\n",
       "    <tr>\n",
       "      <th>25%</th>\n",
       "      <td>NaN</td>\n",
       "      <td>NaN</td>\n",
       "      <td>NaN</td>\n",
       "      <td>NaN</td>\n",
       "      <td>14.000000</td>\n",
       "      <td>3.000000</td>\n",
       "      <td>52.000000</td>\n",
       "      <td>NaN</td>\n",
       "      <td>NaN</td>\n",
       "      <td>2022-09-27 00:00:00</td>\n",
       "      <td>NaN</td>\n",
       "      <td>NaN</td>\n",
       "    </tr>\n",
       "    <tr>\n",
       "      <th>50%</th>\n",
       "      <td>NaN</td>\n",
       "      <td>NaN</td>\n",
       "      <td>NaN</td>\n",
       "      <td>NaN</td>\n",
       "      <td>23.000000</td>\n",
       "      <td>6.000000</td>\n",
       "      <td>110.000000</td>\n",
       "      <td>NaN</td>\n",
       "      <td>NaN</td>\n",
       "      <td>2023-07-09 00:00:00</td>\n",
       "      <td>NaN</td>\n",
       "      <td>NaN</td>\n",
       "    </tr>\n",
       "    <tr>\n",
       "      <th>75%</th>\n",
       "      <td>NaN</td>\n",
       "      <td>NaN</td>\n",
       "      <td>NaN</td>\n",
       "      <td>NaN</td>\n",
       "      <td>33.500000</td>\n",
       "      <td>8.000000</td>\n",
       "      <td>192.000000</td>\n",
       "      <td>NaN</td>\n",
       "      <td>NaN</td>\n",
       "      <td>2024-04-28 00:00:00</td>\n",
       "      <td>NaN</td>\n",
       "      <td>NaN</td>\n",
       "    </tr>\n",
       "    <tr>\n",
       "      <th>max</th>\n",
       "      <td>NaN</td>\n",
       "      <td>NaN</td>\n",
       "      <td>NaN</td>\n",
       "      <td>NaN</td>\n",
       "      <td>41.000000</td>\n",
       "      <td>10.000000</td>\n",
       "      <td>410.000000</td>\n",
       "      <td>NaN</td>\n",
       "      <td>NaN</td>\n",
       "      <td>2025-01-18 00:00:00</td>\n",
       "      <td>NaN</td>\n",
       "      <td>NaN</td>\n",
       "    </tr>\n",
       "    <tr>\n",
       "      <th>std</th>\n",
       "      <td>NaN</td>\n",
       "      <td>NaN</td>\n",
       "      <td>NaN</td>\n",
       "      <td>NaN</td>\n",
       "      <td>10.704121</td>\n",
       "      <td>2.843546</td>\n",
       "      <td>94.378663</td>\n",
       "      <td>NaN</td>\n",
       "      <td>NaN</td>\n",
       "      <td>NaN</td>\n",
       "      <td>NaN</td>\n",
       "      <td>NaN</td>\n",
       "    </tr>\n",
       "  </tbody>\n",
       "</table>\n",
       "</div>"
      ],
      "text/plain": [
       "       transaction_id customer_id       category          item  \\\n",
       "count            7579        7579           7579          7579   \n",
       "unique           7579          25              8           200   \n",
       "top       TXN_6867343     CUST_05  Milk Products  Item_11_MILK   \n",
       "freq                1         352            979            80   \n",
       "mean              NaN         NaN            NaN           NaN   \n",
       "min               NaN         NaN            NaN           NaN   \n",
       "25%               NaN         NaN            NaN           NaN   \n",
       "50%               NaN         NaN            NaN           NaN   \n",
       "75%               NaN         NaN            NaN           NaN   \n",
       "max               NaN         NaN            NaN           NaN   \n",
       "std               NaN         NaN            NaN           NaN   \n",
       "\n",
       "        price_per_unit     quantity  total_spent payment_method location  \\\n",
       "count      7579.000000  7579.000000  7579.000000           7579     7579   \n",
       "unique             NaN          NaN          NaN              3        2   \n",
       "top                NaN          NaN          NaN           Cash   Online   \n",
       "freq               NaN          NaN          NaN           2583     3835   \n",
       "mean         23.428882     5.557329   130.427893            NaN      NaN   \n",
       "min           5.000000     1.000000     5.000000            NaN      NaN   \n",
       "25%          14.000000     3.000000    52.000000            NaN      NaN   \n",
       "50%          23.000000     6.000000   110.000000            NaN      NaN   \n",
       "75%          33.500000     8.000000   192.000000            NaN      NaN   \n",
       "max          41.000000    10.000000   410.000000            NaN      NaN   \n",
       "std          10.704121     2.843546    94.378663            NaN      NaN   \n",
       "\n",
       "                     transaction_date discount_applied    month  \n",
       "count                            7579             7579     7579  \n",
       "unique                            NaN                2       37  \n",
       "top                               NaN             True  2022-01  \n",
       "freq                              NaN             3801      242  \n",
       "mean    2023-07-11 13:57:42.250956544              NaN      NaN  \n",
       "min               2022-01-01 00:00:00              NaN      NaN  \n",
       "25%               2022-09-27 00:00:00              NaN      NaN  \n",
       "50%               2023-07-09 00:00:00              NaN      NaN  \n",
       "75%               2024-04-28 00:00:00              NaN      NaN  \n",
       "max               2025-01-18 00:00:00              NaN      NaN  \n",
       "std                               NaN              NaN      NaN  "
      ]
     },
     "execution_count": 27,
     "metadata": {},
     "output_type": "execute_result"
    }
   ],
   "source": [
    "df.describe(include='all')"
   ]
  }
 ],
 "metadata": {
  "kernelspec": {
   "display_name": "base",
   "language": "python",
   "name": "python3"
  },
  "language_info": {
   "codemirror_mode": {
    "name": "ipython",
    "version": 3
   },
   "file_extension": ".py",
   "mimetype": "text/x-python",
   "name": "python",
   "nbconvert_exporter": "python",
   "pygments_lexer": "ipython3",
   "version": "3.12.4"
  }
 },
 "nbformat": 4,
 "nbformat_minor": 5
}

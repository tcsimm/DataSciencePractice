{
 "cells": [
  {
   "cell_type": "code",
   "execution_count": 2,
   "id": "2653f7a2",
   "metadata": {},
   "outputs": [],
   "source": [
    "import sqlite3"
   ]
  },
  {
   "cell_type": "code",
   "execution_count": 3,
   "id": "c2d8ef14",
   "metadata": {},
   "outputs": [],
   "source": [
    "conn = sqlite3.connect('db3.db')\n",
    "cursor = conn.cursor()"
   ]
  },
  {
   "cell_type": "code",
   "execution_count": 4,
   "id": "9a3b2373",
   "metadata": {},
   "outputs": [],
   "source": [
    "query = \"\"\"\"\n",
    "WITH total_tweets AS (\n",
    "    SELECT user_id,\n",
    "        COUNT(tweet_id) AS tweet_bucket\n",
    "    FROM tweets\n",
    "    WHERE strftime('%Y', tweet_date) = 2022\n",
    "    GROUP BY user_id)\n",
    "    \n",
    "SELECT tweet_bucket,\n",
    "    COUNT(user_id) AS users_num\n",
    "FROM total_tweets\n",
    "GROUP BY tweet_bucket\"\"\""
   ]
  },
  {
   "cell_type": "code",
   "execution_count": null,
   "id": "e1b1e9b2",
   "metadata": {},
   "outputs": [],
   "source": []
  }
 ],
 "metadata": {
  "kernelspec": {
   "display_name": "base",
   "language": "python",
   "name": "python3"
  },
  "language_info": {
   "codemirror_mode": {
    "name": "ipython",
    "version": 3
   },
   "file_extension": ".py",
   "mimetype": "text/x-python",
   "name": "python",
   "nbconvert_exporter": "python",
   "pygments_lexer": "ipython3",
   "version": "3.12.4"
  }
 },
 "nbformat": 4,
 "nbformat_minor": 5
}

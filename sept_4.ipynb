{
 "cells": [
  {
   "cell_type": "code",
   "execution_count": 2,
   "id": "2653f7a2",
   "metadata": {},
   "outputs": [],
   "source": [
    "import sqlite3"
   ]
  },
  {
   "cell_type": "code",
   "execution_count": 5,
   "id": "c2d8ef14",
   "metadata": {},
   "outputs": [],
   "source": [
    "conn = sqlite3.connect('db3.db')\n",
    "cursor = conn.cursor()"
   ]
  },
  {
   "cell_type": "code",
   "execution_count": 7,
   "id": "c1c27dcd",
   "metadata": {},
   "outputs": [
    {
     "data": {
      "text/plain": [
       "<sqlite3.Cursor at 0x110ecaf40>"
      ]
     },
     "execution_count": 7,
     "metadata": {},
     "output_type": "execute_result"
    }
   ],
   "source": [
    "cursor.execute(\"\"\"\n",
    "CREATE TABLE IF NOT EXISTS tweets (\n",
    "    tweet_id INTEGER PRIMARY KEY,\n",
    "    user_id INTEGER,\n",
    "    tweet_date TEXT\n",
    ");\n",
    "\"\"\")"
   ]
  },
  {
   "cell_type": "code",
   "execution_count": 8,
   "id": "ca0b9791",
   "metadata": {},
   "outputs": [],
   "source": [
    "data = [\n",
    "    (1, 101, \"2022-01-15\"),\n",
    "    (2, 101, \"2022-03-20\"),\n",
    "    (3, 102, \"2022-05-10\"),\n",
    "    (4, 103, \"2022-06-18\"),\n",
    "    (5, 103, \"2022-07-01\"),\n",
    "    (6, 103, \"2021-12-25\"),  # not in 2022\n",
    "    (7, 104, \"2022-11-11\"),\n",
    "    (8, 104, \"2022-11-12\"),\n",
    "    (9, 104, \"2022-11-13\"),\n",
    "    (10, 105, \"2023-01-05\")  # not in 2022\n",
    "]"
   ]
  },
  {
   "cell_type": "code",
   "execution_count": 9,
   "id": "cc8fbcf4",
   "metadata": {},
   "outputs": [
    {
     "data": {
      "text/plain": [
       "<sqlite3.Cursor at 0x110ecaf40>"
      ]
     },
     "execution_count": 9,
     "metadata": {},
     "output_type": "execute_result"
    }
   ],
   "source": [
    "cursor.executemany(\"INSERT INTO tweets VALUES (?,?,?);\", data)"
   ]
  },
  {
   "cell_type": "code",
   "execution_count": 10,
   "id": "8d228bd0",
   "metadata": {},
   "outputs": [],
   "source": [
    "conn.commit()"
   ]
  },
  {
   "cell_type": "code",
   "execution_count": 4,
   "id": "9a3b2373",
   "metadata": {},
   "outputs": [],
   "source": [
    "query = \"\"\"\"\n",
    "WITH total_tweets AS (\n",
    "    SELECT user_id,\n",
    "        COUNT(tweet_id) AS tweet_bucket\n",
    "    FROM tweets\n",
    "    WHERE strftime('%Y', tweet_date) = 2022\n",
    "    GROUP BY user_id)\n",
    "    \n",
    "SELECT tweet_bucket,\n",
    "    COUNT(user_id) AS users_num\n",
    "FROM total_tweets\n",
    "GROUP BY tweet_bucket\"\"\""
   ]
  },
  {
   "cell_type": "code",
   "execution_count": null,
   "id": "e1b1e9b2",
   "metadata": {},
   "outputs": [],
   "source": []
  }
 ],
 "metadata": {
  "kernelspec": {
   "display_name": "base",
   "language": "python",
   "name": "python3"
  },
  "language_info": {
   "codemirror_mode": {
    "name": "ipython",
    "version": 3
   },
   "file_extension": ".py",
   "mimetype": "text/x-python",
   "name": "python",
   "nbconvert_exporter": "python",
   "pygments_lexer": "ipython3",
   "version": "3.12.4"
  }
 },
 "nbformat": 4,
 "nbformat_minor": 5
}

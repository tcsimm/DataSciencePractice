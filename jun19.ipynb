{
 "cells": [
  {
   "cell_type": "code",
   "execution_count": 1,
   "id": "a958dcf1",
   "metadata": {},
   "outputs": [],
   "source": [
    "import pandas as pd\n",
    "import numpy as np \n",
    "import matplotlib.pyplot as plt\n",
    "import sqlite3\n",
    "import seaborn as sns"
   ]
  },
  {
   "cell_type": "code",
   "execution_count": 2,
   "id": "998150df",
   "metadata": {},
   "outputs": [],
   "source": [
    "conn = sqlite3.connect(\":memory:\")"
   ]
  },
  {
   "cell_type": "code",
   "execution_count": 3,
   "id": "6c7aa643",
   "metadata": {},
   "outputs": [],
   "source": [
    "cursor = conn.cursor()"
   ]
  },
  {
   "cell_type": "code",
   "execution_count": 5,
   "id": "8bb1fba7",
   "metadata": {},
   "outputs": [
    {
     "ename": "OperationalError",
     "evalue": "table customers already exists",
     "output_type": "error",
     "traceback": [
      "\u001b[0;31m---------------------------------------------------------------------------\u001b[0m",
      "\u001b[0;31mOperationalError\u001b[0m                          Traceback (most recent call last)",
      "Cell \u001b[0;32mIn[5], line 2\u001b[0m\n\u001b[1;32m      1\u001b[0m \u001b[38;5;66;03m# create tables\u001b[39;00m\n\u001b[0;32m----> 2\u001b[0m cursor\u001b[38;5;241m.\u001b[39mexecute(\u001b[38;5;124m\"\"\"\u001b[39m\n\u001b[1;32m      3\u001b[0m \u001b[38;5;124mCREATE TABLE customers (\u001b[39m\n\u001b[1;32m      4\u001b[0m \u001b[38;5;124m    id  INTEGER PRIMARY KEY,\u001b[39m\n\u001b[1;32m      5\u001b[0m \u001b[38;5;124m    name TEXT,\u001b[39m\n\u001b[1;32m      6\u001b[0m \u001b[38;5;124m    city TEXT\u001b[39m\n\u001b[1;32m      7\u001b[0m \u001b[38;5;124m    )\u001b[39m\n\u001b[1;32m      8\u001b[0m \u001b[38;5;124m    \u001b[39m\u001b[38;5;124m\"\"\"\u001b[39m)\n",
      "\u001b[0;31mOperationalError\u001b[0m: table customers already exists"
     ]
    }
   ],
   "source": [
    "# create tables\n",
    "cursor.execute(\"\"\"\n",
    "CREATE TABLE customers (\n",
    "    id  INTEGER PRIMARY KEY,\n",
    "    name TEXT,\n",
    "    city TEXT\n",
    "    )\n",
    "    \"\"\")"
   ]
  },
  {
   "cell_type": "code",
   "execution_count": 6,
   "id": "f10ad490",
   "metadata": {},
   "outputs": [],
   "source": [
    "conn.close()"
   ]
  },
  {
   "cell_type": "code",
   "execution_count": 8,
   "id": "b6c110f1",
   "metadata": {},
   "outputs": [],
   "source": [
    "from scipy import stats"
   ]
  },
  {
   "cell_type": "code",
   "execution_count": 9,
   "id": "d0f135bc",
   "metadata": {},
   "outputs": [],
   "source": [
    "# Simulating an A/B test\n",
    "group_a = np.random.binomial(1, 0.10, 1000) # 10 percent conversion rate\n",
    "group_b = np.random.binomial(1, 0.12, 1000) # 12 percent conversion rate"
   ]
  },
  {
   "cell_type": "code",
   "execution_count": 10,
   "id": "a3f16129",
   "metadata": {},
   "outputs": [
    {
     "name": "stdout",
     "output_type": "stream",
     "text": [
      "T-statistics: -2.797185750053213, P-Value: 0.005204381072224295\n"
     ]
    }
   ],
   "source": [
    "# Perform t-test\n",
    "t_stat, p_val = stats.ttest_ind(group_a, group_b)\n",
    "print(f\"T-statistics: {t_stat}, P-Value: {p_val}\")"
   ]
  }
 ],
 "metadata": {
  "kernelspec": {
   "display_name": "base",
   "language": "python",
   "name": "python3"
  },
  "language_info": {
   "codemirror_mode": {
    "name": "ipython",
    "version": 3
   },
   "file_extension": ".py",
   "mimetype": "text/x-python",
   "name": "python",
   "nbconvert_exporter": "python",
   "pygments_lexer": "ipython3",
   "version": "3.12.4"
  }
 },
 "nbformat": 4,
 "nbformat_minor": 5
}

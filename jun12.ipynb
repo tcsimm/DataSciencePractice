{
 "cells": [
  {
   "cell_type": "code",
   "execution_count": 1,
   "id": "319b5fc2",
   "metadata": {},
   "outputs": [],
   "source": [
    "import pandas as pd\n",
    "import seaborn as sns\n",
    "import matplotlib.pyplot as plt\n",
    "import sqlite3\n",
    "import numpy as np"
   ]
  },
  {
   "cell_type": "code",
   "execution_count": 3,
   "id": "f8ccde6a",
   "metadata": {},
   "outputs": [],
   "source": [
    "df = pd.read_csv(\"/Users/thomassimmons/c/ds/datasets/dirty_cafe_sales.csv\")"
   ]
  },
  {
   "cell_type": "code",
   "execution_count": 9,
   "id": "05d3d516",
   "metadata": {},
   "outputs": [],
   "source": [
    "df['Quantity'] = pd.to_numeric(df['Quantity'], errors = 'coerce')"
   ]
  },
  {
   "cell_type": "code",
   "execution_count": 10,
   "id": "2182898c",
   "metadata": {},
   "outputs": [
    {
     "data": {
      "text/plain": [
       "Transaction ID       object\n",
       "Item                 object\n",
       "Quantity            float64\n",
       "Price Per Unit       object\n",
       "Total Spent          object\n",
       "Payment Method       object\n",
       "Location             object\n",
       "Transaction Date     object\n",
       "dtype: object"
      ]
     },
     "execution_count": 10,
     "metadata": {},
     "output_type": "execute_result"
    }
   ],
   "source": [
    "df.dtypes"
   ]
  },
  {
   "cell_type": "code",
   "execution_count": 13,
   "id": "549dc4a5",
   "metadata": {},
   "outputs": [],
   "source": [
    "df['Price Per Unit'] = pd.to_numeric(df['Price Per Unit'], errors = 'coerce')"
   ]
  },
  {
   "cell_type": "code",
   "execution_count": 14,
   "id": "1005cea1",
   "metadata": {},
   "outputs": [
    {
     "data": {
      "text/plain": [
       "Transaction ID       object\n",
       "Item                 object\n",
       "Quantity            float64\n",
       "Price Per Unit      float64\n",
       "Total Spent          object\n",
       "Payment Method       object\n",
       "Location             object\n",
       "Transaction Date     object\n",
       "dtype: object"
      ]
     },
     "execution_count": 14,
     "metadata": {},
     "output_type": "execute_result"
    }
   ],
   "source": [
    "df.dtypes"
   ]
  },
  {
   "cell_type": "code",
   "execution_count": 15,
   "id": "6aa45d03",
   "metadata": {},
   "outputs": [],
   "source": [
    "df['Total Spent'] = pd.to_numeric(df['Total Spent'], errors = 'coerce')"
   ]
  },
  {
   "cell_type": "code",
   "execution_count": 16,
   "id": "b0f0c5ad",
   "metadata": {},
   "outputs": [
    {
     "data": {
      "text/plain": [
       "Transaction ID       object\n",
       "Item                 object\n",
       "Quantity            float64\n",
       "Price Per Unit      float64\n",
       "Total Spent         float64\n",
       "Payment Method       object\n",
       "Location             object\n",
       "Transaction Date     object\n",
       "dtype: object"
      ]
     },
     "execution_count": 16,
     "metadata": {},
     "output_type": "execute_result"
    }
   ],
   "source": [
    "df.dtypes"
   ]
  },
  {
   "cell_type": "code",
   "execution_count": 18,
   "id": "c43584a7",
   "metadata": {},
   "outputs": [],
   "source": [
    "# Replace unknown and other inconsistent values\n",
    "df['Payment Method'] = df['Payment Method'].replace({'UNKNOWN': pd.NA})"
   ]
  },
  {
   "cell_type": "code",
   "execution_count": 19,
   "id": "66e4d5aa",
   "metadata": {},
   "outputs": [
    {
     "data": {
      "text/plain": [
       "0          Credit Card\n",
       "1                 Cash\n",
       "2          Credit Card\n",
       "3                 <NA>\n",
       "4       Digital Wallet\n",
       "             ...      \n",
       "9995               NaN\n",
       "9996    Digital Wallet\n",
       "9997    Digital Wallet\n",
       "9998    Digital Wallet\n",
       "9999              Cash\n",
       "Name: Payment Method, Length: 10000, dtype: object"
      ]
     },
     "execution_count": 19,
     "metadata": {},
     "output_type": "execute_result"
    }
   ],
   "source": [
    "df['Payment Method']"
   ]
  },
  {
   "cell_type": "code",
   "execution_count": 21,
   "id": "59bd83de",
   "metadata": {},
   "outputs": [],
   "source": [
    "df['Location'] = df['Location'].replace({'UNKNOWN': pd.NA})"
   ]
  },
  {
   "cell_type": "code",
   "execution_count": 22,
   "id": "4e526025",
   "metadata": {},
   "outputs": [
    {
     "data": {
      "text/plain": [
       "0       Takeaway\n",
       "1       In-store\n",
       "2       In-store\n",
       "3           <NA>\n",
       "4       In-store\n",
       "          ...   \n",
       "9995        <NA>\n",
       "9996         NaN\n",
       "9997         NaN\n",
       "9998         NaN\n",
       "9999    In-store\n",
       "Name: Location, Length: 10000, dtype: object"
      ]
     },
     "execution_count": 22,
     "metadata": {},
     "output_type": "execute_result"
    }
   ],
   "source": [
    "df['Location']"
   ]
  },
  {
   "cell_type": "code",
   "execution_count": 23,
   "id": "a1edbcb3",
   "metadata": {},
   "outputs": [],
   "source": [
    "df.dropna(subset=['Quantity', 'Price Per Unit', 'Total Spent', 'Payment Method', 'Location'], inplace=True)"
   ]
  },
  {
   "cell_type": "code",
   "execution_count": 24,
   "id": "e0d81b2f",
   "metadata": {},
   "outputs": [
    {
     "data": {
      "text/plain": [
       "Index(['Transaction ID', 'Item', 'Quantity', 'Price Per Unit', 'Total Spent',\n",
       "       'Payment Method', 'Location', 'Transaction Date'],\n",
       "      dtype='object')"
      ]
     },
     "execution_count": 24,
     "metadata": {},
     "output_type": "execute_result"
    }
   ],
   "source": [
    "df.columns"
   ]
  },
  {
   "cell_type": "code",
   "execution_count": 25,
   "id": "616fd25e",
   "metadata": {},
   "outputs": [],
   "source": [
    "df['Transaction Date'] = pd.to_datetime(df['Transaction Date'], errors = 'coerce')"
   ]
  },
  {
   "cell_type": "code",
   "execution_count": 26,
   "id": "cc0666f2",
   "metadata": {},
   "outputs": [
    {
     "data": {
      "text/plain": [
       "Transaction ID              object\n",
       "Item                        object\n",
       "Quantity                   float64\n",
       "Price Per Unit             float64\n",
       "Total Spent                float64\n",
       "Payment Method              object\n",
       "Location                    object\n",
       "Transaction Date    datetime64[ns]\n",
       "dtype: object"
      ]
     },
     "execution_count": 26,
     "metadata": {},
     "output_type": "execute_result"
    }
   ],
   "source": [
    "df.dtypes"
   ]
  }
 ],
 "metadata": {
  "kernelspec": {
   "display_name": "base",
   "language": "python",
   "name": "python3"
  },
  "language_info": {
   "codemirror_mode": {
    "name": "ipython",
    "version": 3
   },
   "file_extension": ".py",
   "mimetype": "text/x-python",
   "name": "python",
   "nbconvert_exporter": "python",
   "pygments_lexer": "ipython3",
   "version": "3.12.4"
  }
 },
 "nbformat": 4,
 "nbformat_minor": 5
}

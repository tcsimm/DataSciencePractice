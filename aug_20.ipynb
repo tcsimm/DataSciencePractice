{
 "cells": [
  {
   "cell_type": "code",
   "execution_count": 1,
   "id": "e7b022c0",
   "metadata": {},
   "outputs": [],
   "source": [
    "import pandas as pd\n",
    "import sqlite3\n",
    "import numpy as np\n",
    "import matplotlib.pyplot as plt\n",
    "import seaborn as sns"
   ]
  },
  {
   "cell_type": "code",
   "execution_count": 2,
   "id": "ef7479aa",
   "metadata": {},
   "outputs": [
    {
     "data": {
      "text/plain": [
       "(2, 1)"
      ]
     },
     "execution_count": 2,
     "metadata": {},
     "output_type": "execute_result"
    }
   ],
   "source": [
    "students = pd.DataFrame([1,1])\n",
    "\n",
    "def selectData(students: pd.DataFrame) -> pd.DataFrame:\n",
    "    return students.shape\n",
    "\n",
    "selectData(students)"
   ]
  },
  {
   "cell_type": "code",
   "execution_count": 3,
   "id": "76b3f4cd",
   "metadata": {},
   "outputs": [
    {
     "name": "stdout",
     "output_type": "stream",
     "text": [
      "(2, 1)\n"
     ]
    }
   ],
   "source": [
    "print(selectData(students))"
   ]
  },
  {
   "cell_type": "code",
   "execution_count": null,
   "id": "801e3d55",
   "metadata": {},
   "outputs": [],
   "source": [
    "def createBonusColumn(students: pd.DataFrame) -> pd.DataFrame:\n",
    "    students['bonus'] = students['salary'] * 2\n",
    "    return students"
   ]
  },
  {
   "cell_type": "code",
   "execution_count": 12,
   "id": "d2fe8330",
   "metadata": {},
   "outputs": [],
   "source": [
    "conn = sqlite3.connect(':memory:')\n",
    "conn1 = sqlite3.connect('db.db')"
   ]
  },
  {
   "cell_type": "code",
   "execution_count": 13,
   "id": "488fe6f8",
   "metadata": {},
   "outputs": [],
   "source": [
    "cursor = conn.cursor()"
   ]
  },
  {
   "cell_type": "code",
   "execution_count": 23,
   "id": "21171b35",
   "metadata": {},
   "outputs": [
    {
     "data": {
      "text/plain": [
       "<sqlite3.Cursor at 0x1578f6440>"
      ]
     },
     "execution_count": 23,
     "metadata": {},
     "output_type": "execute_result"
    }
   ],
   "source": [
    "cursor.execute(\"\"\"\n",
    "    INSERT INTO students (name, class)\n",
    "    VALUES (?, ?)\n",
    "\"\"\", (\"Alice\", \"Math\"))"
   ]
  },
  {
   "cell_type": "code",
   "execution_count": 29,
   "id": "78bac1c2",
   "metadata": {},
   "outputs": [
    {
     "data": {
      "text/plain": [
       "<sqlite3.Cursor at 0x1578f6440>"
      ]
     },
     "execution_count": 29,
     "metadata": {},
     "output_type": "execute_result"
    }
   ],
   "source": [
    "cursor.execute(\"\"\"PRAGMA table_info(students)\"\"\")"
   ]
  },
  {
   "cell_type": "code",
   "execution_count": 30,
   "id": "dc4e6432",
   "metadata": {},
   "outputs": [
    {
     "name": "stdout",
     "output_type": "stream",
     "text": [
      "[(0, 'id', '', 0, None, 1), (1, 'name', 'VARCHAR', 0, None, 0), (2, 'class', 'VARCHAR', 0, None, 0)]\n"
     ]
    }
   ],
   "source": [
    "print(cursor.fetchall())"
   ]
  },
  {
   "cell_type": "code",
   "execution_count": 7,
   "id": "f21e8260",
   "metadata": {},
   "outputs": [],
   "source": [
    "students = pd.DataFrame([(1,1),(2,1)])"
   ]
  },
  {
   "cell_type": "code",
   "execution_count": 32,
   "id": "86507574",
   "metadata": {},
   "outputs": [
    {
     "data": {
      "text/plain": [
       "(2, 2)"
      ]
     },
     "execution_count": 32,
     "metadata": {},
     "output_type": "execute_result"
    }
   ],
   "source": [
    "selectData(students)"
   ]
  },
  {
   "cell_type": "code",
   "execution_count": 35,
   "id": "b0d8db71",
   "metadata": {},
   "outputs": [],
   "source": [
    "students = pd.DataFrame([[1,1],[2,2],[3,3]])"
   ]
  },
  {
   "cell_type": "code",
   "execution_count": 36,
   "id": "da27d67f",
   "metadata": {},
   "outputs": [
    {
     "data": {
      "text/plain": [
       "(3, 2)"
      ]
     },
     "execution_count": 36,
     "metadata": {},
     "output_type": "execute_result"
    }
   ],
   "source": [
    "students.shape"
   ]
  },
  {
   "cell_type": "code",
   "execution_count": null,
   "id": "cd5a924e",
   "metadata": {},
   "outputs": [],
   "source": []
  }
 ],
 "metadata": {
  "kernelspec": {
   "display_name": "base",
   "language": "python",
   "name": "python3"
  },
  "language_info": {
   "codemirror_mode": {
    "name": "ipython",
    "version": 3
   },
   "file_extension": ".py",
   "mimetype": "text/x-python",
   "name": "python",
   "nbconvert_exporter": "python",
   "pygments_lexer": "ipython3",
   "version": "3.12.4"
  }
 },
 "nbformat": 4,
 "nbformat_minor": 5
}

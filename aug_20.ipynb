{
 "cells": [
  {
   "cell_type": "code",
   "execution_count": 1,
   "id": "e7b022c0",
   "metadata": {},
   "outputs": [],
   "source": [
    "import pandas as pd\n",
    "import sqlite3\n",
    "import numpy as np\n",
    "import matplotlib.pyplot as plt\n",
    "import seaborn as sns"
   ]
  },
  {
   "cell_type": "code",
   "execution_count": 2,
   "id": "ef7479aa",
   "metadata": {},
   "outputs": [
    {
     "data": {
      "text/plain": [
       "(2, 1)"
      ]
     },
     "execution_count": 2,
     "metadata": {},
     "output_type": "execute_result"
    }
   ],
   "source": [
    "students = pd.DataFrame([1,1])\n",
    "\n",
    "def selectData(students: pd.DataFrame) -> pd.DataFrame:\n",
    "    return students.shape\n",
    "\n",
    "selectData(students)"
   ]
  },
  {
   "cell_type": "code",
   "execution_count": 3,
   "id": "76b3f4cd",
   "metadata": {},
   "outputs": [
    {
     "name": "stdout",
     "output_type": "stream",
     "text": [
      "(2, 1)\n"
     ]
    }
   ],
   "source": [
    "print(selectData(students))"
   ]
  },
  {
   "cell_type": "code",
   "execution_count": 4,
   "id": "801e3d55",
   "metadata": {},
   "outputs": [],
   "source": [
    "def createBonusColumn(students: pd.DataFrame) -> pd.DataFrame:\n",
    "    students['bonus'] = students['salary'] * 2\n",
    "    return students"
   ]
  },
  {
   "cell_type": "code",
   "execution_count": 5,
   "id": "d2fe8330",
   "metadata": {},
   "outputs": [],
   "source": [
    "conn = sqlite3.connect(':memory:')\n",
    "conn1 = sqlite3.connect('db.db')"
   ]
  },
  {
   "cell_type": "code",
   "execution_count": 6,
   "id": "488fe6f8",
   "metadata": {},
   "outputs": [],
   "source": [
    "cursor = conn.cursor()"
   ]
  },
  {
   "cell_type": "code",
   "execution_count": 7,
   "id": "21171b35",
   "metadata": {},
   "outputs": [
    {
     "ename": "OperationalError",
     "evalue": "no such table: students",
     "output_type": "error",
     "traceback": [
      "\u001b[0;31m---------------------------------------------------------------------------\u001b[0m",
      "\u001b[0;31mOperationalError\u001b[0m                          Traceback (most recent call last)",
      "Cell \u001b[0;32mIn[7], line 1\u001b[0m\n\u001b[0;32m----> 1\u001b[0m cursor\u001b[38;5;241m.\u001b[39mexecute(\u001b[38;5;124m\"\"\"\u001b[39m\n\u001b[1;32m      2\u001b[0m \u001b[38;5;124m    INSERT INTO students (name, class)\u001b[39m\n\u001b[1;32m      3\u001b[0m \u001b[38;5;124m    VALUES (?, ?)\u001b[39m\n\u001b[1;32m      4\u001b[0m \u001b[38;5;124m\"\"\"\u001b[39m, (\u001b[38;5;124m\"\u001b[39m\u001b[38;5;124mAlice\u001b[39m\u001b[38;5;124m\"\u001b[39m, \u001b[38;5;124m\"\u001b[39m\u001b[38;5;124mMath\u001b[39m\u001b[38;5;124m\"\u001b[39m))\n",
      "\u001b[0;31mOperationalError\u001b[0m: no such table: students"
     ]
    }
   ],
   "source": [
    "cursor.execute(\"\"\"\n",
    "    INSERT INTO students (name, class)\n",
    "    VALUES (?, ?)\n",
    "\"\"\", (\"Alice\", \"Math\"))"
   ]
  },
  {
   "cell_type": "code",
   "execution_count": null,
   "id": "78bac1c2",
   "metadata": {},
   "outputs": [
    {
     "data": {
      "text/plain": [
       "<sqlite3.Cursor at 0x1578f6440>"
      ]
     },
     "execution_count": 29,
     "metadata": {},
     "output_type": "execute_result"
    }
   ],
   "source": [
    "cursor.execute(\"\"\"PRAGMA table_info(students)\"\"\")"
   ]
  },
  {
   "cell_type": "code",
   "execution_count": null,
   "id": "dc4e6432",
   "metadata": {},
   "outputs": [
    {
     "name": "stdout",
     "output_type": "stream",
     "text": [
      "[(0, 'id', '', 0, None, 1), (1, 'name', 'VARCHAR', 0, None, 0), (2, 'class', 'VARCHAR', 0, None, 0)]\n"
     ]
    }
   ],
   "source": [
    "print(cursor.fetchall())"
   ]
  },
  {
   "cell_type": "code",
   "execution_count": null,
   "id": "f21e8260",
   "metadata": {},
   "outputs": [],
   "source": [
    "students = pd.DataFrame([(1,1),(2,1)])"
   ]
  },
  {
   "cell_type": "code",
   "execution_count": null,
   "id": "86507574",
   "metadata": {},
   "outputs": [
    {
     "data": {
      "text/plain": [
       "(2, 2)"
      ]
     },
     "execution_count": 32,
     "metadata": {},
     "output_type": "execute_result"
    }
   ],
   "source": [
    "selectData(students)"
   ]
  },
  {
   "cell_type": "code",
   "execution_count": null,
   "id": "b0d8db71",
   "metadata": {},
   "outputs": [],
   "source": [
    "students = pd.DataFrame([[1,1],[2,2],[3,3]])"
   ]
  },
  {
   "cell_type": "code",
   "execution_count": 41,
   "id": "edf722d3",
   "metadata": {},
   "outputs": [
    {
     "name": "stdout",
     "output_type": "stream",
     "text": [
      "[(3, 'Charlie', 350.0), (1, 'Alice', 200.5), (2, 'Bob', 150.85)]\n"
     ]
    }
   ],
   "source": [
    "cursor.execute(\"\"\"\n",
    "                        SELECT c.customer_id, c.customer_name, SUM(o.total_amount) AS total_sales_2024\n",
    "                        FROM Customer c\n",
    "                        JOIN Orders o\n",
    "                        ON o.customer_id = c.customer_id\n",
    "                        WHERE o.order_date BETWEEN '2024-01-01' AND '2025-01-01'\n",
    "                        GROUP BY c.customer_id, c.customer_name\n",
    "                        ORDER BY total_sales_2024 DESC\"\"\")\n",
    "\n",
    "print(cursor.fetchall())"
   ]
  },
  {
   "cell_type": "code",
   "execution_count": 11,
   "id": "a224ab37",
   "metadata": {},
   "outputs": [
    {
     "data": {
      "text/plain": [
       "<sqlite3.Cursor at 0x16c9d3740>"
      ]
     },
     "execution_count": 11,
     "metadata": {},
     "output_type": "execute_result"
    }
   ],
   "source": [
    "cursor.execute(\"\"\"\n",
    "CREATE TABLE IF NOT EXISTS Customer (\n",
    "    customer_id INTEGER PRIMARY KEY,\n",
    "    customer_name TEXT)\"\"\")"
   ]
  },
  {
   "cell_type": "code",
   "execution_count": 14,
   "id": "da092886",
   "metadata": {},
   "outputs": [
    {
     "data": {
      "text/plain": [
       "<sqlite3.Cursor at 0x16c9d3740>"
      ]
     },
     "execution_count": 14,
     "metadata": {},
     "output_type": "execute_result"
    }
   ],
   "source": [
    "cursor.execute(\"\"\"\n",
    "CREATE TABLE IF NOT EXISTS Orders (\n",
    "    order_id INTEGER PRIMARY KEY,\n",
    "    customer_id INTEGER,\n",
    "    order_date DATE,\n",
    "    total_amount REAL,\n",
    "    FOREIGN KEY (customer_id) REFERENCES Customer(customer_id))\"\"\")"
   ]
  },
  {
   "cell_type": "code",
   "execution_count": 39,
   "id": "cf1e1df0",
   "metadata": {},
   "outputs": [
    {
     "data": {
      "text/plain": [
       "<sqlite3.Cursor at 0x16c9d3740>"
      ]
     },
     "execution_count": 39,
     "metadata": {},
     "output_type": "execute_result"
    }
   ],
   "source": [
    "cursor.executemany(\"\"\"\n",
    "INSERT OR REPLACE INTO Customer (customer_id, customer_name)\n",
    "VALUES(?,?)\n",
    "\"\"\", [\n",
    "    (1, \"Alice\"),\n",
    "    (2, \"Bob\"),\n",
    "    (3, \"Charlie\")\n",
    "])"
   ]
  },
  {
   "cell_type": "code",
   "execution_count": 38,
   "id": "fff364a5",
   "metadata": {},
   "outputs": [],
   "source": [
    "cursor.executemany(\"\"\"\n",
    "INSERT OR REPLACE INTO Orders (order_id, customer_id, order_date, total_amount)\n",
    "VALUES (?,?,?,?)\n",
    "\"\"\", [\n",
    "    (1,1,'2024-02-15',200.50),\n",
    "    (2,2,'2025-01-01',150.85),\n",
    "    (3,3,'2024-8-20', 350.00),\n",
    "    (4,4,'01-02-2001',100.50)\n",
    "])\n",
    "\n",
    "conn.commit()"
   ]
  },
  {
   "cell_type": "code",
   "execution_count": 29,
   "id": "631246b4",
   "metadata": {},
   "outputs": [
    {
     "name": "stdout",
     "output_type": "stream",
     "text": [
      "[('Customer',), ('Orders',)]\n"
     ]
    }
   ],
   "source": [
    "cursor.execute(\"SELECT name FROM sqlite_master WHERE type='table'\")\n",
    "print(cursor.fetchall())"
   ]
  },
  {
   "cell_type": "code",
   "execution_count": 32,
   "id": "82524cf5",
   "metadata": {},
   "outputs": [
    {
     "name": "stdout",
     "output_type": "stream",
     "text": [
      "[(0, 'customer_id', 'INTEGER', 0, None, 1), (1, 'customer_name', 'TEXT', 0, None, 0)]\n"
     ]
    }
   ],
   "source": [
    "cursor.execute(\"PRAGMA table_info (Customer)\")\n",
    "print(cursor.fetchall())"
   ]
  },
  {
   "cell_type": "code",
   "execution_count": 37,
   "id": "b715a41a",
   "metadata": {},
   "outputs": [
    {
     "name": "stdout",
     "output_type": "stream",
     "text": [
      "[(1, 1, '2024-02-15', 200.5), (2, 2, '2025-01-01', 150.85), (3, 3, '2024-8-20', 350.0), (4, 4, '01-02-2001', 100.5)]\n"
     ]
    }
   ],
   "source": [
    "cursor.execute(\"SELECT * FROM Orders LIMIT 4\")\n",
    "print(cursor.fetchall())"
   ]
  },
  {
   "cell_type": "code",
   "execution_count": 43,
   "id": "843eeef5",
   "metadata": {},
   "outputs": [
    {
     "name": "stdout",
     "output_type": "stream",
     "text": [
      "[(3,)]\n"
     ]
    }
   ],
   "source": [
    "cursor.execute(\"SELECT COUNT(*) FROM Customer;\")\n",
    "print(cursor.fetchall())"
   ]
  },
  {
   "cell_type": "code",
   "execution_count": 45,
   "id": "6bb1186a",
   "metadata": {},
   "outputs": [],
   "source": [
    "def selectData(students: pd.DataFrame) -> pd.DataFrame:\n",
    "    return students.loc[students['student_id'] == 101, ['name','age']]"
   ]
  }
 ],
 "metadata": {
  "kernelspec": {
   "display_name": "base",
   "language": "python",
   "name": "python3"
  },
  "language_info": {
   "codemirror_mode": {
    "name": "ipython",
    "version": 3
   },
   "file_extension": ".py",
   "mimetype": "text/x-python",
   "name": "python",
   "nbconvert_exporter": "python",
   "pygments_lexer": "ipython3",
   "version": "3.12.4"
  }
 },
 "nbformat": 4,
 "nbformat_minor": 5
}

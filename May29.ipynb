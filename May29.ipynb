{
 "cells": [
  {
   "cell_type": "code",
   "execution_count": 4,
   "id": "4cddcf08",
   "metadata": {},
   "outputs": [
    {
     "data": {
      "text/plain": [
       "298349513.3333333"
      ]
     },
     "execution_count": 4,
     "metadata": {},
     "output_type": "execute_result"
    }
   ],
   "source": [
    "import pandas as pd\n",
    "import numpy as np\n",
    "\n",
    "np.mean([1,2, 895048537])"
   ]
  },
  {
   "cell_type": "code",
   "execution_count": 8,
   "id": "4cf11d67",
   "metadata": {},
   "outputs": [
    {
     "data": {
      "text/plain": [
       "1"
      ]
     },
     "execution_count": 8,
     "metadata": {},
     "output_type": "execute_result"
    }
   ],
   "source": [
    "np.absolute([-1])\n",
    "np.absolute(1)"
   ]
  },
  {
   "cell_type": "code",
   "execution_count": 11,
   "id": "f65b78c1",
   "metadata": {},
   "outputs": [
    {
     "data": {
      "text/plain": [
       "array([2, 9, 5])"
      ]
     },
     "execution_count": 11,
     "metadata": {},
     "output_type": "execute_result"
    }
   ],
   "source": [
    "np.absolute([-2, -9, -5])"
   ]
  },
  {
   "cell_type": "code",
   "execution_count": 12,
   "id": "d8f5a3e1",
   "metadata": {},
   "outputs": [],
   "source": [
    "df = pd.read_csv(\"/Users/thomassimmons/Downloads/titanic.csv\")"
   ]
  },
  {
   "cell_type": "code",
   "execution_count": 13,
   "id": "8e5f257c",
   "metadata": {},
   "outputs": [
    {
     "data": {
      "text/plain": [
       "Index(['PassengerId', 'Survived', 'Pclass', 'Name', 'Sex', 'Age', 'SibSp',\n",
       "       'Parch', 'Ticket', 'Fare', 'Cabin', 'Embarked'],\n",
       "      dtype='object')"
      ]
     },
     "execution_count": 13,
     "metadata": {},
     "output_type": "execute_result"
    }
   ],
   "source": [
    "df.columns"
   ]
  }
 ],
 "metadata": {
  "kernelspec": {
   "display_name": "base",
   "language": "python",
   "name": "python3"
  },
  "language_info": {
   "codemirror_mode": {
    "name": "ipython",
    "version": 3
   },
   "file_extension": ".py",
   "mimetype": "text/x-python",
   "name": "python",
   "nbconvert_exporter": "python",
   "pygments_lexer": "ipython3",
   "version": "3.12.4"
  }
 },
 "nbformat": 4,
 "nbformat_minor": 5
}

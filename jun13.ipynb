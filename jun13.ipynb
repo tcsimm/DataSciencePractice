{
 "cells": [
  {
   "cell_type": "code",
   "execution_count": null,
   "id": "a062c552",
   "metadata": {},
   "outputs": [],
   "source": [
    "import pandas as pd\n",
    "import numpy as np\n",
    "import seaborn as sns\n",
    "import sqlite3\n",
    "import matplotlib.pyplot as plt"
   ]
  }
 ],
 "metadata": {
  "language_info": {
   "name": "python"
  }
 },
 "nbformat": 4,
 "nbformat_minor": 5
}

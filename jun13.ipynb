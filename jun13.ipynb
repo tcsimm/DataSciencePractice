{
 "cells": [
  {
   "cell_type": "code",
   "execution_count": 1,
   "id": "a062c552",
   "metadata": {},
   "outputs": [],
   "source": [
    "import pandas as pd\n",
    "import numpy as np\n",
    "import seaborn as sns\n",
    "import sqlite3\n",
    "import matplotlib.pyplot as plt"
   ]
  },
  {
   "cell_type": "code",
   "execution_count": 2,
   "id": "46301c66",
   "metadata": {},
   "outputs": [],
   "source": [
    "df = pd.read_csv(\"/Users/thomassimmons/c/d/datasets/dirty_cafe_sales.csv\")"
   ]
  },
  {
   "cell_type": "code",
   "execution_count": 3,
   "id": "1b44def3",
   "metadata": {},
   "outputs": [
    {
     "data": {
      "text/plain": [
       "(10000, 8)"
      ]
     },
     "execution_count": 3,
     "metadata": {},
     "output_type": "execute_result"
    }
   ],
   "source": [
    "df.shape"
   ]
  },
  {
   "cell_type": "code",
   "execution_count": 4,
   "id": "672674ea",
   "metadata": {},
   "outputs": [],
   "source": [
    "df['Quantity'] = pd.to_numeric(df['Quantity'], errors = 'coerce')"
   ]
  },
  {
   "cell_type": "code",
   "execution_count": 5,
   "id": "f4e4ce0e",
   "metadata": {},
   "outputs": [
    {
     "data": {
      "text/plain": [
       "Transaction ID       object\n",
       "Item                 object\n",
       "Quantity            float64\n",
       "Price Per Unit       object\n",
       "Total Spent          object\n",
       "Payment Method       object\n",
       "Location             object\n",
       "Transaction Date     object\n",
       "dtype: object"
      ]
     },
     "execution_count": 5,
     "metadata": {},
     "output_type": "execute_result"
    }
   ],
   "source": [
    "df.dtypes"
   ]
  },
  {
   "cell_type": "code",
   "execution_count": 6,
   "id": "24a3a3c1",
   "metadata": {},
   "outputs": [],
   "source": [
    "df['Price Per Unit'] = pd.to_numeric(df['Price Per Unit'], errors = 'coerce')"
   ]
  },
  {
   "cell_type": "code",
   "execution_count": 7,
   "id": "afcb3d9d",
   "metadata": {},
   "outputs": [],
   "source": [
    "df['Total Spent'] = pd.to_numeric(df['Total Spent'], errors = 'coerce')"
   ]
  },
  {
   "cell_type": "code",
   "execution_count": 8,
   "id": "fc8b01d0",
   "metadata": {},
   "outputs": [],
   "source": [
    "df['Payment Method'] = df['Payment Method'].replace({'UNKNOWN': pd.NA})"
   ]
  },
  {
   "cell_type": "code",
   "execution_count": 9,
   "id": "1ca3c5f3",
   "metadata": {},
   "outputs": [],
   "source": [
    "df['Location'] = df['Location'].replace({'UNKNOWN': pd.NA})"
   ]
  },
  {
   "cell_type": "code",
   "execution_count": 10,
   "id": "780302e0",
   "metadata": {},
   "outputs": [],
   "source": [
    "df.dropna(subset=['Quantity', 'Price Per Unit', 'Total Spent', 'Payment Method', 'Location'], inplace=True)"
   ]
  },
  {
   "cell_type": "code",
   "execution_count": 11,
   "id": "e813fd01",
   "metadata": {},
   "outputs": [],
   "source": [
    "df['Transaction Date'] = pd.to_datetime(df['Transaction Date'], errors = 'coerce')"
   ]
  },
  {
   "cell_type": "code",
   "execution_count": 12,
   "id": "9c5e4f1a",
   "metadata": {},
   "outputs": [],
   "source": [
    "df.dropna(subset=['Transaction Date'], inplace=True)"
   ]
  },
  {
   "cell_type": "code",
   "execution_count": 13,
   "id": "6762b801",
   "metadata": {},
   "outputs": [],
   "source": [
    "df.reset_index(drop=True, inplace=True)"
   ]
  },
  {
   "cell_type": "code",
   "execution_count": 14,
   "id": "1a65510b",
   "metadata": {},
   "outputs": [
    {
     "data": {
      "text/plain": [
       "2.5"
      ]
     },
     "execution_count": 14,
     "metadata": {},
     "output_type": "execute_result"
    }
   ],
   "source": [
    "np.median([1,2,3,4])"
   ]
  },
  {
   "cell_type": "code",
   "execution_count": 15,
   "id": "4d630633",
   "metadata": {},
   "outputs": [
    {
     "name": "stdout",
     "output_type": "stream",
     "text": [
      "Shape: (3774, 8)\n"
     ]
    }
   ],
   "source": [
    "print(\"Shape:\", df.shape)"
   ]
  },
  {
   "cell_type": "code",
   "execution_count": 16,
   "id": "8ab88d9f",
   "metadata": {},
   "outputs": [
    {
     "name": "stdout",
     "output_type": "stream",
     "text": [
      "Missing values: Transaction ID        0\n",
      "Item                126\n",
      "Quantity              0\n",
      "Price Per Unit        0\n",
      "Total Spent           0\n",
      "Payment Method        0\n",
      "Location              0\n",
      "Transaction Date      0\n",
      "dtype: int64\n"
     ]
    }
   ],
   "source": [
    "print(\"Missing values:\", df.isna().sum())"
   ]
  },
  {
   "cell_type": "code",
   "execution_count": 17,
   "id": "33402b11",
   "metadata": {},
   "outputs": [
    {
     "name": "stdout",
     "output_type": "stream",
     "text": [
      "Data types:\n",
      " Transaction ID              object\n",
      "Item                        object\n",
      "Quantity                   float64\n",
      "Price Per Unit             float64\n",
      "Total Spent                float64\n",
      "Payment Method              object\n",
      "Location                    object\n",
      "Transaction Date    datetime64[ns]\n",
      "dtype: object\n"
     ]
    }
   ],
   "source": [
    "print(\"Data types:\\n\", df.dtypes)"
   ]
  },
  {
   "cell_type": "code",
   "execution_count": 18,
   "id": "0457dd18",
   "metadata": {},
   "outputs": [
    {
     "name": "stdout",
     "output_type": "stream",
     "text": [
      "\n",
      "Unique values per column:\n",
      ": <bound method DataFrame.nunique of      Transaction ID      Item  Quantity  Price Per Unit  Total Spent  \\\n",
      "0       TXN_1961373    Coffee       2.0             2.0          4.0   \n",
      "1       TXN_4977031      Cake       4.0             3.0         12.0   \n",
      "2       TXN_3160411    Coffee       2.0             2.0          4.0   \n",
      "3       TXN_4433211   UNKNOWN       3.0             3.0          9.0   \n",
      "4       TXN_2548360     Salad       5.0             5.0         25.0   \n",
      "...             ...       ...       ...             ...          ...   \n",
      "3769    TXN_9668108      Cake       1.0             3.0          3.0   \n",
      "3770    TXN_9933628  Smoothie       5.0             4.0         20.0   \n",
      "3771    TXN_2858441  Sandwich       2.0             4.0          8.0   \n",
      "3772    TXN_3897619  Sandwich       3.0             4.0         12.0   \n",
      "3773    TXN_6170729  Sandwich       3.0             4.0         12.0   \n",
      "\n",
      "      Payment Method  Location Transaction Date  \n",
      "0        Credit Card  Takeaway       2023-09-08  \n",
      "1               Cash  In-store       2023-05-16  \n",
      "2     Digital Wallet  In-store       2023-06-11  \n",
      "3              ERROR  Takeaway       2023-10-06  \n",
      "4               Cash  Takeaway       2023-11-07  \n",
      "...              ...       ...              ...  \n",
      "3769            Cash  In-store       2023-01-20  \n",
      "3770            Cash  In-store       2023-07-20  \n",
      "3771     Credit Card  In-store       2023-12-14  \n",
      "3772            Cash  Takeaway       2023-02-24  \n",
      "3773            Cash  In-store       2023-11-07  \n",
      "\n",
      "[3774 rows x 8 columns]>\n"
     ]
    }
   ],
   "source": [
    "print(\"\\nUnique values per column:\\n:\", df.nunique)"
   ]
  },
  {
   "cell_type": "code",
   "execution_count": 19,
   "id": "7aa1dd36",
   "metadata": {},
   "outputs": [
    {
     "name": "stdout",
     "output_type": "stream",
     "text": [
      "Summary statistics:\n",
      "        Transaction ID   Item     Quantity  Price Per Unit  Total Spent  \\\n",
      "count            3774   3648  3774.000000     3774.000000  3774.000000   \n",
      "unique           3774     10          NaN             NaN          NaN   \n",
      "top       TXN_1961373  Salad          NaN             NaN          NaN   \n",
      "freq                1    463          NaN             NaN          NaN   \n",
      "mean              NaN    NaN     3.019608        2.964096     8.934155   \n",
      "min               NaN    NaN     1.000000        1.000000     1.000000   \n",
      "25%               NaN    NaN     2.000000        2.000000     4.000000   \n",
      "50%               NaN    NaN     3.000000        3.000000     8.000000   \n",
      "75%               NaN    NaN     4.000000        4.000000    12.000000   \n",
      "max               NaN    NaN     5.000000        5.000000    25.000000   \n",
      "std               NaN    NaN     1.413140        1.294843     6.007943   \n",
      "\n",
      "        Payment Method  Location               Transaction Date  \n",
      "count             3774      3774                           3774  \n",
      "unique               4         3                            NaN  \n",
      "top     Digital Wallet  In-store                            NaN  \n",
      "freq              1255      1793                            NaN  \n",
      "mean               NaN       NaN  2023-07-01 12:14:52.845786880  \n",
      "min                NaN       NaN            2023-01-01 00:00:00  \n",
      "25%                NaN       NaN            2023-03-31 00:00:00  \n",
      "50%                NaN       NaN            2023-07-04 00:00:00  \n",
      "75%                NaN       NaN            2023-09-30 18:00:00  \n",
      "max                NaN       NaN            2023-12-31 00:00:00  \n",
      "std                NaN       NaN                            NaN  \n"
     ]
    }
   ],
   "source": [
    "print(\"Summary statistics:\\n\",  df.describe(include='all'))"
   ]
  },
  {
   "cell_type": "code",
   "execution_count": 20,
   "id": "88630f12",
   "metadata": {},
   "outputs": [
    {
     "name": "stdout",
     "output_type": "stream",
     "text": [
      "Sample records:\n",
      "      Transaction ID      Item  Quantity  Price Per Unit  Total Spent  \\\n",
      "93      TXN_1583597     Salad       1.0             5.0          5.0   \n",
      "3771    TXN_2858441  Sandwich       2.0             4.0          8.0   \n",
      "2636    TXN_2840861       Tea       2.0             1.5          3.0   \n",
      "1338    TXN_1260517  Smoothie       5.0             4.0         20.0   \n",
      "358     TXN_6287890       Tea       5.0             1.5          7.5   \n",
      "\n",
      "      Payment Method  Location Transaction Date  \n",
      "93              Cash  In-store       2023-05-10  \n",
      "3771     Credit Card  In-store       2023-12-14  \n",
      "2636  Digital Wallet  Takeaway       2023-05-31  \n",
      "1338  Digital Wallet  Takeaway       2023-04-17  \n",
      "358      Credit Card  Takeaway       2023-02-07  \n"
     ]
    }
   ],
   "source": [
    "print(\"Sample records:\\n\", df.sample(5, random_state=42))"
   ]
  },
  {
   "cell_type": "code",
   "execution_count": 30,
   "id": "0d6bf455",
   "metadata": {},
   "outputs": [
    {
     "name": "stderr",
     "output_type": "stream",
     "text": [
      "/var/folders/kf/nt6wlgn90dvc9wsk7ttkqs4w0000gn/T/ipykernel_12426/162585120.py:2: FutureWarning: 'M' is deprecated and will be removed in a future version, please use 'ME' instead.\n",
      "  monthly_sales = df.resample('M', on='Transaction Date')['Total Spent'].sum()\n"
     ]
    },
    {
     "data": {
      "image/png": "[encoded data removed]",
      "text/plain": [
       "<Figure size 640x480 with 1 Axes>"
      ]
     },
     "metadata": {},
     "output_type": "display_data"
    }
   ],
   "source": [
    "# Total sales over time\n",
    "monthly_sales = df.resample('M', on='Transaction Date')['Total Spent'].sum()\n",
    "monthly_sales.plot(kind = 'line', title='Monthly Sales Trend',ylabel='Total Sales ($)', xlabel='Month')\n",
    "plt.grid=True\n",
    "plt.tight_layout()\n",
    "plt.show()"
   ]
  },
  {
   "cell_type": "code",
   "execution_count": null,
   "id": "77f337bf",
   "metadata": {},
   "outputs": [],
   "source": []
  }
 ],
 "metadata": {
  "kernelspec": {
   "display_name": "base",
   "language": "python",
   "name": "python3"
  },
  "language_info": {
   "codemirror_mode": {
    "name": "ipython",
    "version": 3
   },
   "file_extension": ".py",
   "mimetype": "text/x-python",
   "name": "python",
   "nbconvert_exporter": "python",
   "pygments_lexer": "ipython3",
   "version": "3.12.4"
  }
 },
 "nbformat": 4,
 "nbformat_minor": 5
}

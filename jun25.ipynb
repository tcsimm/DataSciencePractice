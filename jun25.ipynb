{
 "cells": [
  {
   "cell_type": "code",
   "execution_count": 1,
   "id": "6f1688cb",
   "metadata": {},
   "outputs": [],
   "source": [
    "#Jun25/26/27\n",
    "\n",
    "import pandas as pd\n",
    "import seaborn as sns\n",
    "import matplotlib.pyplot as plt\n",
    "import sqlite3\n",
    "import numpy as np"
   ]
  },
  {
   "cell_type": "code",
   "execution_count": 2,
   "id": "6d8de60c",
   "metadata": {},
   "outputs": [],
   "source": [
    "df = pd.read_csv(\"/Users/thomassimmons/c/d/datasets/retail_store_sales.csv\")"
   ]
  },
  {
   "cell_type": "code",
   "execution_count": 3,
   "id": "4bc202d9",
   "metadata": {},
   "outputs": [
    {
     "data": {
      "text/plain": [
       "<bound method NDFrame.describe of       Transaction ID Customer ID       Category          Item  Price Per Unit  \\\n",
       "0        TXN_6867343     CUST_09     Patisserie   Item_10_PAT            18.5   \n",
       "1        TXN_3731986     CUST_22  Milk Products  Item_17_MILK            29.0   \n",
       "2        TXN_9303719     CUST_02       Butchers   Item_12_BUT            21.5   \n",
       "3        TXN_9458126     CUST_06      Beverages   Item_16_BEV            27.5   \n",
       "4        TXN_4575373     CUST_05           Food   Item_6_FOOD            12.5   \n",
       "...              ...         ...            ...           ...             ...   \n",
       "12570    TXN_9347481     CUST_18     Patisserie   Item_23_PAT            38.0   \n",
       "12571    TXN_4009414     CUST_03      Beverages    Item_2_BEV             6.5   \n",
       "12572    TXN_5306010     CUST_11       Butchers    Item_7_BUT            14.0   \n",
       "12573    TXN_5167298     CUST_04      Furniture    Item_7_FUR            14.0   \n",
       "12574    TXN_2407494     CUST_23           Food   Item_9_FOOD            17.0   \n",
       "\n",
       "       Quantity  Total Spent  Payment Method  Location Transaction Date  \\\n",
       "0          10.0        185.0  Digital Wallet    Online       2024-04-08   \n",
       "1           9.0        261.0  Digital Wallet    Online       2023-07-23   \n",
       "2           2.0         43.0     Credit Card    Online       2022-10-05   \n",
       "3           9.0        247.5     Credit Card    Online       2022-05-07   \n",
       "4           7.0         87.5  Digital Wallet    Online       2022-10-02   \n",
       "...         ...          ...             ...       ...              ...   \n",
       "12570       4.0        152.0     Credit Card  In-store       2023-09-03   \n",
       "12571       9.0         58.5            Cash    Online       2022-08-12   \n",
       "12572      10.0        140.0            Cash    Online       2024-08-24   \n",
       "12573       6.0         84.0            Cash    Online       2023-12-30   \n",
       "12574       3.0         51.0            Cash    Online       2022-08-06   \n",
       "\n",
       "      Discount Applied  \n",
       "0                 True  \n",
       "1                 True  \n",
       "2                False  \n",
       "3                  NaN  \n",
       "4                False  \n",
       "...                ...  \n",
       "12570              NaN  \n",
       "12571            False  \n",
       "12572              NaN  \n",
       "12573             True  \n",
       "12574              NaN  \n",
       "\n",
       "[12575 rows x 11 columns]>"
      ]
     },
     "execution_count": 3,
     "metadata": {},
     "output_type": "execute_result"
    }
   ],
   "source": [
    "df.describe"
   ]
  },
  {
   "cell_type": "code",
   "execution_count": 11,
   "id": "105c24c1",
   "metadata": {},
   "outputs": [
    {
     "data": {
      "text/plain": [
       "transaction_id      0\n",
       "customer_id         0\n",
       "category            0\n",
       "item                0\n",
       "price_per_unit      0\n",
       "quantity            0\n",
       "total_spent         0\n",
       "payment_method      0\n",
       "location            0\n",
       "transaction_date    0\n",
       "discount_applied    0\n",
       "dtype: int64"
      ]
     },
     "execution_count": 11,
     "metadata": {},
     "output_type": "execute_result"
    }
   ],
   "source": [
    "df.isnull().sum()"
   ]
  },
  {
   "cell_type": "code",
   "execution_count": 6,
   "id": "049c5ea7",
   "metadata": {},
   "outputs": [],
   "source": [
    "df.columns = df.columns.str.strip().str.replace(\" \", \"_\").str.lower()"
   ]
  },
  {
   "cell_type": "code",
   "execution_count": 7,
   "id": "89131053",
   "metadata": {},
   "outputs": [
    {
     "data": {
      "text/plain": [
       "Index(['transaction_id', 'customer_id', 'category', 'item', 'price_per_unit',\n",
       "       'quantity', 'total_spent', 'payment_method', 'location',\n",
       "       'transaction_date', 'discount_applied'],\n",
       "      dtype='object')"
      ]
     },
     "execution_count": 7,
     "metadata": {},
     "output_type": "execute_result"
    }
   ],
   "source": [
    "df.columns"
   ]
  },
  {
   "cell_type": "code",
   "execution_count": null,
   "id": "41730d0f",
   "metadata": {},
   "outputs": [],
   "source": [
    "df = df.dropna(subset = [\"item\", \"price_per_unit\", \"quantity\", \"total_spent\", \"discount_applied\"])\n",
    "# Remember to assign df = at the start in order for the change to go through"
   ]
  }
 ],
 "metadata": {
  "kernelspec": {
   "display_name": "base",
   "language": "python",
   "name": "python3"
  },
  "language_info": {
   "codemirror_mode": {
    "name": "ipython",
    "version": 3
   },
   "file_extension": ".py",
   "mimetype": "text/x-python",
   "name": "python",
   "nbconvert_exporter": "python",
   "pygments_lexer": "ipython3",
   "version": "3.12.4"
  }
 },
 "nbformat": 4,
 "nbformat_minor": 5
}
